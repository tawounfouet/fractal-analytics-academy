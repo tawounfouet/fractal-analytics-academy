{
 "cells": [
  {
   "cell_type": "code",
   "execution_count": 5,
   "id": "ac1d9f99-2ad3-429a-99fb-4c79b681da13",
   "metadata": {},
   "outputs": [],
   "source": [
    "import csv\n",
    "import random"
   ]
  },
  {
   "cell_type": "code",
   "execution_count": 6,
   "id": "e5e8f7a0-59db-4437-99c9-cde1bba2de3f",
   "metadata": {},
   "outputs": [],
   "source": [
    "csv_file_path = '../data/sales2.csv'\n",
    "\n",
    "output_txt_file = '../data/sales2.txt'\n",
    "\n",
    "sample_size = 1000"
   ]
  },
  {
   "cell_type": "markdown",
   "id": "44283b3f-da4a-4d53-bb84-94817368fae9",
   "metadata": {},
   "source": [
    "## VIEW THE PRINTOUTS"
   ]
  },
  {
   "cell_type": "code",
   "execution_count": 7,
   "id": "e075c67c-7f24-45ff-85e2-6845b19cb483",
   "metadata": {},
   "outputs": [
    {
     "name": "stdout",
     "output_type": "stream",
     "text": [
      "vendor, profit_outlier_capped\n",
      "Accenco, 4.56\n",
      "Accenco, 21.7\n",
      "Accenco, 18.62\n",
      "Accenco, 11.64\n",
      "Accenco, 15.96\n",
      "Accenco, -8.5974\n",
      "Accenco, 3.48\n",
      "Accenco, 21.2\n",
      "Accenco, 1.42\n",
      "Accenco, 2.72\n",
      "Accenco, -11.624\n",
      "Accenco, -26.46\n",
      "Accenco, 9.76\n",
      "Accenco, 9.12\n",
      "Accenco, 16.8\n",
      "Accenco, 228.84\n",
      "Accenco, -6.064\n",
      "Accenco, -4.836\n",
      "Accenco, 15.78\n",
      "Accenco, 95.712\n",
      "Accenco, 7.3008\n",
      "Accenco, 7.596\n",
      "Accenco, 21.1428\n",
      "Accenco, 18.96\n",
      "Accenco, 0.0\n",
      "Accenco, 12.48\n",
      "Accenco, 17.28\n",
      "Accenco, 2.64\n",
      "Accenco, -11.19\n",
      "Accenco, -0.8392\n",
      "Accenco, 34.4\n",
      "Accenco, -3.28\n",
      "Accenco, 2.872\n",
      "Accenco, -0.7040000000000001\n",
      "Accenco, 3.4216\n",
      "Accenco, 4.2384\n",
      "Accenco, 53.76\n",
      "Accenco, 31.76\n",
      "Accenco, 48.84\n",
      "Accenco, 5.367999999999999\n",
      "Accenco, -6.867000000000001\n",
      "Accenco, 0.0\n",
      "Accenco, 7.44\n",
      "Accenco, 2.6\n",
      "Accenco, 5.68\n",
      "Accenco, 13.3\n",
      "Accenco, 16.8\n",
      "Accenco, -2.6256\n",
      "Accenco, 0.3156\n",
      "Accenco, 32.095\n"
     ]
    }
   ],
   "source": [
    "with open(csv_file_path, 'r') as csv_file:\n",
    "    csv_reader = csv.reader(csv_file)\n",
    "    \n",
    "\n",
    "    # Assuming the first row is header\n",
    "    header = next(csv_reader)\n",
    "    print(', '.join(header))  # Print the header\n",
    "\n",
    "    row_count = 0\n",
    "    for row in csv_reader:\n",
    "        row_text = ', '.join(row)\n",
    "        print(row_text)\n",
    "        \n",
    "        row_count += 1\n",
    "        if row_count >= 50:\n",
    "            break"
   ]
  },
  {
   "cell_type": "code",
   "execution_count": null,
   "id": "031075df-6f25-489a-a3d8-4218ccb0af65",
   "metadata": {},
   "outputs": [],
   "source": [
    "with open(csv_file_path, 'r') as csv_file:\n",
    "    csv_reader = csv.reader(csv_file)\n",
    "\n",
    "    # Assuming the first row is header\n",
    "    header = next(csv_reader)\n",
    "    print(', '.join(header))  # Print the header\n",
    "\n",
    "    all_rows = list(csv_reader)\n",
    "    sampled_rows = random.sample(all_rows, min(sample_size, len(all_rows)))\n",
    "\n",
    "    for row in sampled_rows:\n",
    "        row_text = ', '.join(row)\n",
    "        print(row_text)"
   ]
  },
  {
   "cell_type": "markdown",
   "id": "7fe97bcc-b565-4954-9744-666556dc9167",
   "metadata": {},
   "source": [
    "## SAVE TO TEXT"
   ]
  },
  {
   "cell_type": "code",
   "execution_count": null,
   "id": "5157fb08-c9a7-477f-a755-557710a8899d",
   "metadata": {},
   "outputs": [],
   "source": [
    "# SAMPLE first 50 obs\n",
    "csv_file_path = 'sales2.csv'\n",
    "output_txt_file = 'sales2.txt'  # Specify the desired output file name\n",
    "\n",
    "with open(csv_file_path, 'r') as csv_file, open(output_txt_file, 'w') as txt_file:\n",
    "    csv_reader = csv.reader(csv_file)\n",
    "    \n",
    "    # Assuming the first row is header\n",
    "    header = next(csv_reader)\n",
    "    txt_file.write(', '.join(header) + '\\n')  # Write the header\n",
    "    \n",
    "    row_count = 0\n",
    "    for row in csv_reader:\n",
    "        row_text = ', '.join(row)\n",
    "        txt_file.write(row_text + '\\n')  # Write each row\n",
    "        \n",
    "        row_count += 1\n",
    "        if row_count >= 50:\n",
    "            break"
   ]
  },
  {
   "cell_type": "code",
   "execution_count": null,
   "id": "662db483-8494-4bd2-bd49-53cbcacd5bb5",
   "metadata": {},
   "outputs": [],
   "source": [
    "# Random 1000 obs\n",
    "\n",
    "csv_file_path = 'sales2.csv'\n",
    "output_txt_file = 'sales2.txt'  # Specify the desired output file name\n",
    "\n",
    "with open(csv_file_path, 'r') as csv_file:\n",
    "    csv_reader = csv.reader(csv_file)\n",
    "\n",
    "    # Assuming the first row is header\n",
    "    header = next(csv_reader)\n",
    "    print(', '.join(header))  # Print the header\n",
    "\n",
    "    all_rows = list(csv_reader)\n",
    "    sampled_rows = random.sample(all_rows, min(sample_size, len(all_rows)))\n",
    "\n",
    "    with open(output_txt_file, 'w') as txt_file:\n",
    "        txt_file.write(', '.join(header) + '\\n')  # Write the header to the output file\n",
    "        for row in sampled_rows:\n",
    "            row_text = ', '.join(row)\n",
    "            txt_file.write(row_text + '\\n')\n"
   ]
  },
  {
   "cell_type": "code",
   "execution_count": null,
   "id": "c54719cb-476d-4938-b618-9a0199d1b874",
   "metadata": {},
   "outputs": [],
   "source": []
  }
 ],
 "metadata": {
  "kernelspec": {
   "display_name": "Python 3 (ipykernel)",
   "language": "python",
   "name": "python3"
  },
  "language_info": {
   "codemirror_mode": {
    "name": "ipython",
    "version": 3
   },
   "file_extension": ".py",
   "mimetype": "text/x-python",
   "name": "python",
   "nbconvert_exporter": "python",
   "pygments_lexer": "ipython3",
   "version": "3.10.13"
  }
 },
 "nbformat": 4,
 "nbformat_minor": 5
}
