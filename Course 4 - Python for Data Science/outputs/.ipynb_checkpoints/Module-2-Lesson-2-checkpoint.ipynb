{
 "cells": [
  {
   "cell_type": "markdown",
   "id": "d448738f",
   "metadata": {},
   "source": [
    "### Lesson 2: DataFrame fundamentals and indexing"
   ]
  },
  {
   "cell_type": "markdown",
   "id": "f13f7f06",
   "metadata": {},
   "source": [
    "### Part 2.2.1  : Crafting DataFrames\n",
    "- The dataframe is most widely used data structure by data scientists\n",
    "- When we read the data file (csv, excel etc.) using pandas read_csv or read_excel functions, the outcome will be a dataframe.\n",
    "- We can perform various operations on rows and columns of the dataframe like indexing, subsetting, grouping etc.\n",
    "- Each column in a dataframe is called a Series.\n",
    "- Let us now explore the fundamentals of the dataframe."
   ]
  },
  {
   "cell_type": "markdown",
   "id": "293c3541",
   "metadata": {},
   "source": [
    "#### We can create a dataframe by using a combination of data structures like list, dictionary and series. So, let us first understand lists, dictionary and series\n"
   ]
  },
  {
   "cell_type": "markdown",
   "id": "24b9a8d5",
   "metadata": {},
   "source": [
    "###### A list is a data structure in Python which is a sequence of elements, which can be of different types"
   ]
  },
  {
   "cell_type": "code",
   "execution_count": 1,
   "id": "72229669",
   "metadata": {
    "code_folding": []
   },
   "outputs": [],
   "source": [
    "# create a simple list\n",
    "ls = [1,2,3.02,'x', 10]"
   ]
  },
  {
   "cell_type": "code",
   "execution_count": 2,
   "id": "b3d7d9a2",
   "metadata": {
    "code_folding": []
   },
   "outputs": [
    {
     "name": "stdout",
     "output_type": "stream",
     "text": [
      "[1, 2, 3.02, 'x', 10]\n"
     ]
    }
   ],
   "source": [
    "# print the list\n",
    "print(ls)"
   ]
  },
  {
   "cell_type": "code",
   "execution_count": 3,
   "id": "1d6964d8",
   "metadata": {
    "code_folding": []
   },
   "outputs": [
    {
     "name": "stdout",
     "output_type": "stream",
     "text": [
      "<class 'list'>\n"
     ]
    }
   ],
   "source": [
    "#ls is of type list\n",
    "print(type(ls))  "
   ]
  },
  {
   "cell_type": "code",
   "execution_count": 21,
   "id": "4d7553ec",
   "metadata": {
    "code_folding": []
   },
   "outputs": [],
   "source": [
    "# reading data from the keyboard and create a list\n",
    "\n",
    "ls=[]   # create empty list"
   ]
  },
  {
   "cell_type": "code",
   "execution_count": 22,
   "id": "67ba4292",
   "metadata": {},
   "outputs": [
    {
     "name": "stdout",
     "output_type": "stream",
     "text": [
      "[]\n"
     ]
    }
   ],
   "source": [
    "print(ls)"
   ]
  },
  {
   "cell_type": "code",
   "execution_count": 23,
   "id": "694dd8a0",
   "metadata": {
    "code_folding": []
   },
   "outputs": [
    {
     "name": "stdin",
     "output_type": "stream",
     "text": [
      "Enter a value: 1\n",
      "Enter a value: 2\n",
      "Enter a value: 3\n"
     ]
    }
   ],
   "source": [
    "# we will use the input() function to read the data from keyboard\n",
    "# we will use a for loop to read multiple elements\n",
    "\n",
    "\n",
    "for i in range(3):           # the loop gets executed 3 times, as range() function has default starting value as 0\n",
    "    ls.append(input('Enter a value:'))    #input() function reads the data "
   ]
  },
  {
   "cell_type": "code",
   "execution_count": 24,
   "id": "16e97cc1",
   "metadata": {
    "code_folding": []
   },
   "outputs": [
    {
     "name": "stdout",
     "output_type": "stream",
     "text": [
      "['1', '2', '3']\n"
     ]
    }
   ],
   "source": [
    "# print the contents of the list    \n",
    "print(ls)"
   ]
  },
  {
   "cell_type": "markdown",
   "id": "c777d7c2",
   "metadata": {},
   "source": [
    "**NOTE:**\n",
    "- List is one of the most widely used the data structures in Python\n",
    "- There are several built-in methods which are used for operations on lists like append(), extend(), copy, count(), insert(), pop(), sort() etc. We will use them as and when required."
   ]
  },
  {
   "cell_type": "markdown",
   "id": "c8c6cd82",
   "metadata": {},
   "source": [
    "###### A dictionary is a data structure in Python which is a sequence of key:value paired elements\n",
    "```python\n",
    "d = {\"name\": age, \"name\": age}"
   ]
  },
  {
   "cell_type": "code",
   "execution_count": 31,
   "id": "8aa3b6da",
   "metadata": {
    "code_folding": []
   },
   "outputs": [
    {
     "name": "stdout",
     "output_type": "stream",
     "text": [
      "{'Mike': 25, 'Jack': 23, 'Tom': 20}\n"
     ]
    }
   ],
   "source": [
    "# create a dictionary of name:age pairs\n",
    "d = {'Mike':25, 'Jack':23, 'Tom':20}\n",
    "print(d)"
   ]
  },
  {
   "cell_type": "code",
   "execution_count": 32,
   "id": "d9813b77",
   "metadata": {
    "code_folding": []
   },
   "outputs": [
    {
     "name": "stdout",
     "output_type": "stream",
     "text": [
      "{'Mike': 25, 'Jack': 23, 'Tom': 20, 'Jerry': 21}\n"
     ]
    }
   ],
   "source": [
    "# adding a new pair to the existing dictionary\n",
    "d['Jerry']=21\n",
    "print(d)"
   ]
  },
  {
   "cell_type": "code",
   "execution_count": 34,
   "id": "601dd4eb-eb33-4222-99bd-f4037e76351d",
   "metadata": {},
   "outputs": [
    {
     "name": "stdout",
     "output_type": "stream",
     "text": [
      "{'Mike': 25, 'Jack': 23, 'Tom': 20, 'Jerry': 21, 'Will': 30}\n"
     ]
    }
   ],
   "source": [
    "# adding a new pair using update methode - .update()\n",
    "\n",
    "d.update({'Will': 30})\n",
    "print(d)"
   ]
  },
  {
   "cell_type": "code",
   "execution_count": 38,
   "id": "838b458d-f8bc-4c4f-b18f-a9cd82c6ddd3",
   "metadata": {},
   "outputs": [
    {
     "name": "stdout",
     "output_type": "stream",
     "text": [
      "{'Mike': 25, 'Jack': 23, 'Tom': 20, 'Jerry': 21, 'Will': 30, 'Junior': 22}\n"
     ]
    }
   ],
   "source": [
    "# Using the dict constructor:\n",
    "\n",
    "d = dict(d, Junior=22)\n",
    "print(d)"
   ]
  },
  {
   "cell_type": "code",
   "execution_count": 41,
   "id": "1b05fbec-c234-4d0c-8fd4-cd7ffd31eac9",
   "metadata": {},
   "outputs": [
    {
     "data": {
      "text/plain": [
       "dict_items([('Mike', 25), ('Jack', 23), ('Tom', 20), ('Jerry', 21), ('Will', 30), ('Junior', 22)])"
      ]
     },
     "execution_count": 41,
     "metadata": {},
     "output_type": "execute_result"
    }
   ],
   "source": [
    "d.items()"
   ]
  },
  {
   "cell_type": "code",
   "execution_count": 42,
   "id": "880087dd",
   "metadata": {
    "code_folding": []
   },
   "outputs": [
    {
     "name": "stdout",
     "output_type": "stream",
     "text": [
      "[('Mike', 25), ('Jack', 23), ('Tom', 20), ('Jerry', 21), ('Will', 30), ('Junior', 22)]\n"
     ]
    }
   ],
   "source": [
    "# use items() method to display dictionary contents\n",
    "print(list(d.items()))"
   ]
  },
  {
   "cell_type": "code",
   "execution_count": 43,
   "id": "1cf271b0-c8fa-4eb7-bcd7-6cd67d6c1a2d",
   "metadata": {},
   "outputs": [
    {
     "name": "stdout",
     "output_type": "stream",
     "text": [
      "('Mike', 25)\n",
      "('Jack', 23)\n",
      "('Tom', 20)\n",
      "('Jerry', 21)\n",
      "('Will', 30)\n",
      "('Junior', 22)\n"
     ]
    }
   ],
   "source": [
    "for item in list(d.items()):\n",
    "    print(item)"
   ]
  },
  {
   "cell_type": "code",
   "execution_count": 44,
   "id": "da15f3a6-76cd-46b4-b78d-f50e33b79447",
   "metadata": {},
   "outputs": [
    {
     "data": {
      "text/plain": [
       "dict_keys(['Mike', 'Jack', 'Tom', 'Jerry', 'Will', 'Junior'])"
      ]
     },
     "execution_count": 44,
     "metadata": {},
     "output_type": "execute_result"
    }
   ],
   "source": [
    "d.keys()"
   ]
  },
  {
   "cell_type": "code",
   "execution_count": 45,
   "id": "e591960b-dd00-48b0-a849-b6ca8bc7a239",
   "metadata": {},
   "outputs": [
    {
     "data": {
      "text/plain": [
       "dict_values([25, 23, 20, 21, 30, 22])"
      ]
     },
     "execution_count": 45,
     "metadata": {},
     "output_type": "execute_result"
    }
   ],
   "source": [
    "d.values()"
   ]
  },
  {
   "cell_type": "code",
   "execution_count": 51,
   "id": "e892c67f-dda0-4b8f-86c3-95df053f8e88",
   "metadata": {},
   "outputs": [
    {
     "name": "stdout",
     "output_type": "stream",
     "text": [
      "Mike :  25\n",
      "Jack :  23\n",
      "Tom :  20\n",
      "Jerry :  21\n",
      "Will :  30\n",
      "Junior :  22\n"
     ]
    }
   ],
   "source": [
    "for key, value in list(d.items()):\n",
    "    print(key,\": \", value)"
   ]
  },
  {
   "cell_type": "code",
   "execution_count": 60,
   "id": "1aab59a7-dac1-4532-a23b-c62c99e6338f",
   "metadata": {},
   "outputs": [
    {
     "name": "stdout",
     "output_type": "stream",
     "text": [
      "Mike :  25\n",
      "Jack :  23\n",
      "Tom :  20\n",
      "Jerry :  21\n",
      "Will :  30\n",
      "Junior :  22\n"
     ]
    }
   ],
   "source": [
    "for key, value in list(d.items()):\n",
    "    print(f\"{key} :  {value}\")"
   ]
  },
  {
   "cell_type": "markdown",
   "id": "8961a5b4",
   "metadata": {},
   "source": [
    "**NOTE:**\n",
    "- Each record/row in a dataframe is treated as a dictionary, where keys are the column headers and the values are elements in the row.\n",
    "- So, understanding basics of dictionary is helpful when you create a dataframe. \n",
    "- Dictionary object supports few methods like items(), keys(), values() etc to extract the elements within the dictionary. We will use them as and when required."
   ]
  },
  {
   "cell_type": "markdown",
   "id": "d8fb6b8d",
   "metadata": {},
   "source": [
    "###### Series is a data structure in Pandas which is a single column vector containing elements"
   ]
  },
  {
   "cell_type": "code",
   "execution_count": 61,
   "id": "a69d519f",
   "metadata": {},
   "outputs": [],
   "source": [
    "import pandas as pd"
   ]
  },
  {
   "cell_type": "code",
   "execution_count": 63,
   "id": "5b3b14b2-fc2e-4e70-992d-2ddc8e164f3b",
   "metadata": {},
   "outputs": [
    {
     "data": {
      "text/plain": [
       "0    10\n",
       "1    20\n",
       "2    30\n",
       "3    40\n",
       "dtype: int64"
      ]
     },
     "execution_count": 63,
     "metadata": {},
     "output_type": "execute_result"
    }
   ],
   "source": [
    "my_list = [10, 20, 30, 40]\n",
    "\n",
    "s_list = pd.Series(my_list)\n",
    "s_list"
   ]
  },
  {
   "cell_type": "code",
   "execution_count": 64,
   "id": "13f739bc",
   "metadata": {
    "code_folding": []
   },
   "outputs": [
    {
     "name": "stdout",
     "output_type": "stream",
     "text": [
      "0    10\n",
      "1    20\n",
      "2    30\n",
      "3    40\n",
      "dtype: int64\n"
     ]
    }
   ],
   "source": [
    "# create a series of elements\n",
    "s = pd.Series([10,20,30,40])\n",
    "print(s)"
   ]
  },
  {
   "cell_type": "code",
   "execution_count": 65,
   "id": "81a24b51",
   "metadata": {
    "code_folding": []
   },
   "outputs": [
    {
     "name": "stdout",
     "output_type": "stream",
     "text": [
      "30\n"
     ]
    }
   ],
   "source": [
    "# access the elements of a series\n",
    "print(s[2])"
   ]
  },
  {
   "cell_type": "code",
   "execution_count": 66,
   "id": "57739361",
   "metadata": {
    "code_folding": []
   },
   "outputs": [
    {
     "name": "stdout",
     "output_type": "stream",
     "text": [
      "first     10\n",
      "second    20\n",
      "third     30\n",
      "fourth    40\n",
      "dtype: int64\n"
     ]
    }
   ],
   "source": [
    "# give a user-defined index to series elements\n",
    "s1 = pd.Series([10,20,30,40],index=['first', 'second','third','fourth'])\n",
    "print(s1)"
   ]
  },
  {
   "cell_type": "code",
   "execution_count": 69,
   "id": "1869afd1",
   "metadata": {
    "code_folding": []
   },
   "outputs": [
    {
     "name": "stdout",
     "output_type": "stream",
     "text": [
      "20\n",
      "20\n"
     ]
    },
    {
     "name": "stderr",
     "output_type": "stream",
     "text": [
      "/var/folders/8y/dhqjv_h574s900xmlg8w791r0000gn/T/ipykernel_18533/3795320466.py:3: FutureWarning: Series.__getitem__ treating keys as positions is deprecated. In a future version, integer keys will always be treated as labels (consistent with DataFrame behavior). To access a value by position, use `ser.iloc[pos]`\n",
      "  print(s1[1])\n"
     ]
    }
   ],
   "source": [
    "# access using either default index or user-defined index\n",
    "print(s1['second'])\n",
    "print(s1[1])"
   ]
  },
  {
   "cell_type": "code",
   "execution_count": 71,
   "id": "5a50c3a6-52db-47f5-b053-c5acdf99b26e",
   "metadata": {},
   "outputs": [
    {
     "name": "stdout",
     "output_type": "stream",
     "text": [
      "20\n"
     ]
    },
    {
     "data": {
      "text/plain": [
       "20"
      ]
     },
     "execution_count": 71,
     "metadata": {},
     "output_type": "execute_result"
    }
   ],
   "source": [
    "# access using either default index or user-defined index\n",
    "print(s1['second'])\n",
    "s1.iloc[1]"
   ]
  },
  {
   "cell_type": "markdown",
   "id": "dddc8988",
   "metadata": {},
   "source": [
    "**NOTE:**\n",
    "- Each column in a dataframe is treated as a series.\n",
    "- So, whenever you would like to operate on only one column of the dataframe, we must use built-in operations meant for series."
   ]
  },
  {
   "cell_type": "markdown",
   "id": "36efd62b",
   "metadata": {},
   "source": [
    "#### Creating DataFrame using Lists, Dictionaries and Series"
   ]
  },
  {
   "cell_type": "code",
   "execution_count": 96,
   "id": "a422b958",
   "metadata": {
    "code_folding": []
   },
   "outputs": [
    {
     "data": {
      "text/plain": [
       "['Company A', 'Company B', 'Company C', 'Company D', 'Company E', 'Company F']"
      ]
     },
     "execution_count": 96,
     "metadata": {},
     "output_type": "execute_result"
    }
   ],
   "source": [
    "# create a list of indices\n",
    "index_list=['Company A','Company B','Company C','Company D','Company E','Company F']\n",
    "index_list"
   ]
  },
  {
   "cell_type": "code",
   "execution_count": 80,
   "id": "04b28d12-2536-4990-9f19-528ef6dad07b",
   "metadata": {},
   "outputs": [
    {
     "data": {
      "text/plain": [
       "list"
      ]
     },
     "execution_count": 80,
     "metadata": {},
     "output_type": "execute_result"
    }
   ],
   "source": [
    "type(index_list)"
   ]
  },
  {
   "cell_type": "code",
   "execution_count": 84,
   "id": "6bfbafc7-ae1f-46b0-8058-f55fff743e4f",
   "metadata": {},
   "outputs": [
    {
     "data": {
      "text/plain": [
       "0    346.15\n",
       "1      0.59\n",
       "2    459.00\n",
       "3      0.52\n",
       "4    589.80\n",
       "5    158.88\n",
       "dtype: float64"
      ]
     },
     "execution_count": 84,
     "metadata": {},
     "output_type": "execute_result"
    }
   ],
   "source": [
    "close_prices_series = pd.Series([346.15,0.59,459,0.52,589.8,158.88])\n",
    "close_prices_series"
   ]
  },
  {
   "cell_type": "code",
   "execution_count": 86,
   "id": "b9ae8b3a-7eab-47bb-adfd-d388067fafce",
   "metadata": {},
   "outputs": [
    {
     "data": {
      "text/plain": [
       "pandas.core.series.Series"
      ]
     },
     "execution_count": 86,
     "metadata": {},
     "output_type": "execute_result"
    }
   ],
   "source": [
    "type(close_prices_series)"
   ]
  },
  {
   "cell_type": "markdown",
   "id": "5e957d8f-2510-47ce-8321-51d01825cb6f",
   "metadata": {},
   "source": [
    "```python\n",
    "{'company': close_price}"
   ]
  },
  {
   "cell_type": "code",
   "execution_count": 92,
   "id": "34527683-55df-4d9b-85fb-3c3c10da7c50",
   "metadata": {},
   "outputs": [
    {
     "data": {
      "text/plain": [
       "{'Closing price': 0    346.15\n",
       " 1      0.59\n",
       " 2    459.00\n",
       " 3      0.52\n",
       " 4    589.80\n",
       " 5    158.88\n",
       " dtype: float64}"
      ]
     },
     "execution_count": 92,
     "metadata": {},
     "output_type": "execute_result"
    }
   ],
   "source": [
    "close_prices_dict = {'Closing price': pd.Series([346.15,0.59,459,0.52,589.8,158.88])}\n",
    "close_prices_dict"
   ]
  },
  {
   "cell_type": "code",
   "execution_count": 99,
   "id": "ac49cebe-31dd-4d9d-aa91-75a219ab9459",
   "metadata": {},
   "outputs": [
    {
     "data": {
      "text/plain": [
       "{'Closing price': Company A    346.15\n",
       " Company B      0.59\n",
       " Company C    459.00\n",
       " Company D      0.52\n",
       " Company E    589.80\n",
       " Company F    158.88\n",
       " dtype: float64}"
      ]
     },
     "execution_count": 99,
     "metadata": {},
     "output_type": "execute_result"
    }
   ],
   "source": [
    "# adding index to our dict \n",
    "\n",
    "close_prices_dict = {'Closing price': pd.Series([346.15,0.59,459,0.52,589.8,158.88], index=index_list)}\n",
    "close_prices_dict"
   ]
  },
  {
   "cell_type": "code",
   "execution_count": 89,
   "id": "ecac80da-c84d-44df-8dce-5178fbeb10b2",
   "metadata": {},
   "outputs": [
    {
     "data": {
      "text/plain": [
       "dict"
      ]
     },
     "execution_count": 89,
     "metadata": {},
     "output_type": "execute_result"
    }
   ],
   "source": [
    "type(close_prices)"
   ]
  },
  {
   "cell_type": "code",
   "execution_count": 102,
   "id": "136981a0",
   "metadata": {
    "code_folding": []
   },
   "outputs": [],
   "source": [
    "# create a data frame, where key is the company name and values are the series \n",
    "#map the values with the index_list while creating the series\n",
    "\n",
    "company_dir = {'Closing price': pd.Series([346.15,0.59,459,0.52,589.8,158.88], \n",
    "                                        index=index_list),\n",
    "             \n",
    "                'EPS': pd.Series([1133.43,36.05,145.02, 4.5, 31.44,380.64],\n",
    "                                 index=index_list),\n",
    "                \n",
    "                'Beta': pd.Series([1,2,3,4,5,6],index=index_list),\n",
    "                'P/E': pd.Series([10,20,30,40,60,50], index=index_list),\n",
    "                'Market Cap(B)': pd.Series([1254.05, 43.2, 2300, 5.6, 773.8, 521.56], index=index_list)\n",
    "                \n",
    "               }"
   ]
  },
  {
   "cell_type": "code",
   "execution_count": 103,
   "id": "60b3d435",
   "metadata": {},
   "outputs": [
    {
     "data": {
      "text/plain": [
       "{'Closing price': Company A    346.15\n",
       " Company B      0.59\n",
       " Company C    459.00\n",
       " Company D      0.52\n",
       " Company E    589.80\n",
       " Company F    158.88\n",
       " dtype: float64,\n",
       " 'EPS': Company A    1133.43\n",
       " Company B      36.05\n",
       " Company C     145.02\n",
       " Company D       4.50\n",
       " Company E      31.44\n",
       " Company F     380.64\n",
       " dtype: float64,\n",
       " 'Beta': Company A    1\n",
       " Company B    2\n",
       " Company C    3\n",
       " Company D    4\n",
       " Company E    5\n",
       " Company F    6\n",
       " dtype: int64,\n",
       " 'P/E': Company A    10\n",
       " Company B    20\n",
       " Company C    30\n",
       " Company D    40\n",
       " Company E    60\n",
       " Company F    50\n",
       " dtype: int64,\n",
       " 'Market Cap(B)': Company A    1254.05\n",
       " Company B      43.20\n",
       " Company C    2300.00\n",
       " Company D       5.60\n",
       " Company E     773.80\n",
       " Company F     521.56\n",
       " dtype: float64}"
      ]
     },
     "execution_count": 103,
     "metadata": {},
     "output_type": "execute_result"
    }
   ],
   "source": [
    "company_dir"
   ]
  },
  {
   "cell_type": "code",
   "execution_count": 104,
   "id": "f135e1df",
   "metadata": {
    "code_folding": []
   },
   "outputs": [
    {
     "data": {
      "text/html": [
       "<div>\n",
       "<style scoped>\n",
       "    .dataframe tbody tr th:only-of-type {\n",
       "        vertical-align: middle;\n",
       "    }\n",
       "\n",
       "    .dataframe tbody tr th {\n",
       "        vertical-align: top;\n",
       "    }\n",
       "\n",
       "    .dataframe thead th {\n",
       "        text-align: right;\n",
       "    }\n",
       "</style>\n",
       "<table border=\"1\" class=\"dataframe\">\n",
       "  <thead>\n",
       "    <tr style=\"text-align: right;\">\n",
       "      <th></th>\n",
       "      <th>Closing price</th>\n",
       "      <th>EPS</th>\n",
       "      <th>Beta</th>\n",
       "      <th>P/E</th>\n",
       "      <th>Market Cap(B)</th>\n",
       "    </tr>\n",
       "  </thead>\n",
       "  <tbody>\n",
       "    <tr>\n",
       "      <th>Company A</th>\n",
       "      <td>346.15</td>\n",
       "      <td>1133.43</td>\n",
       "      <td>1</td>\n",
       "      <td>10</td>\n",
       "      <td>1254.05</td>\n",
       "    </tr>\n",
       "    <tr>\n",
       "      <th>Company B</th>\n",
       "      <td>0.59</td>\n",
       "      <td>36.05</td>\n",
       "      <td>2</td>\n",
       "      <td>20</td>\n",
       "      <td>43.20</td>\n",
       "    </tr>\n",
       "    <tr>\n",
       "      <th>Company C</th>\n",
       "      <td>459.00</td>\n",
       "      <td>145.02</td>\n",
       "      <td>3</td>\n",
       "      <td>30</td>\n",
       "      <td>2300.00</td>\n",
       "    </tr>\n",
       "    <tr>\n",
       "      <th>Company D</th>\n",
       "      <td>0.52</td>\n",
       "      <td>4.50</td>\n",
       "      <td>4</td>\n",
       "      <td>40</td>\n",
       "      <td>5.60</td>\n",
       "    </tr>\n",
       "    <tr>\n",
       "      <th>Company E</th>\n",
       "      <td>589.80</td>\n",
       "      <td>31.44</td>\n",
       "      <td>5</td>\n",
       "      <td>60</td>\n",
       "      <td>773.80</td>\n",
       "    </tr>\n",
       "    <tr>\n",
       "      <th>Company F</th>\n",
       "      <td>158.88</td>\n",
       "      <td>380.64</td>\n",
       "      <td>6</td>\n",
       "      <td>50</td>\n",
       "      <td>521.56</td>\n",
       "    </tr>\n",
       "  </tbody>\n",
       "</table>\n",
       "</div>"
      ],
      "text/plain": [
       "           Closing price      EPS  Beta  P/E  Market Cap(B)\n",
       "Company A         346.15  1133.43     1   10        1254.05\n",
       "Company B           0.59    36.05     2   20          43.20\n",
       "Company C         459.00   145.02     3   30        2300.00\n",
       "Company D           0.52     4.50     4   40           5.60\n",
       "Company E         589.80    31.44     5   60         773.80\n",
       "Company F         158.88   380.64     6   50         521.56"
      ]
     },
     "execution_count": 104,
     "metadata": {},
     "output_type": "execute_result"
    }
   ],
   "source": [
    "companydf = pd.DataFrame(company_dir)\n",
    "companydf"
   ]
  },
  {
   "cell_type": "markdown",
   "id": "c6a1d3b1",
   "metadata": {},
   "source": [
    "**NOTE:**\n",
    "- We created a new dataframe using various data structures here. \n",
    "- There are multiple other ways to do so, but we will not explore those, because most of time we will be using business data which will be already saved in Excel or CSV formats"
   ]
  },
  {
   "cell_type": "markdown",
   "id": "f673d6c0-9e56-4c3c-bd94-df3e849a8515",
   "metadata": {},
   "source": []
  },
  {
   "cell_type": "code",
   "execution_count": null,
   "id": "8cc7642c",
   "metadata": {},
   "outputs": [],
   "source": []
  },
  {
   "cell_type": "markdown",
   "id": "f1b65516",
   "metadata": {},
   "source": [
    "### Part 2.2.2  : Slicing with precision\n",
    "- Slicing is a way of extracting the subset of the dataframe.\n",
    "- We can extract the required rows and columns by using appropriate indices for slicing.\n",
    "- There are two methods ***loc()*** and ***iloc()*** that can be used to create subsets of the data\n",
    "- We will use the ***companydf*** dataframe created in the previous video to demonstrate these concepts"
   ]
  },
  {
   "cell_type": "code",
   "execution_count": 105,
   "id": "e0508f8f",
   "metadata": {
    "code_folding": []
   },
   "outputs": [
    {
     "data": {
      "text/html": [
       "<div>\n",
       "<style scoped>\n",
       "    .dataframe tbody tr th:only-of-type {\n",
       "        vertical-align: middle;\n",
       "    }\n",
       "\n",
       "    .dataframe tbody tr th {\n",
       "        vertical-align: top;\n",
       "    }\n",
       "\n",
       "    .dataframe thead th {\n",
       "        text-align: right;\n",
       "    }\n",
       "</style>\n",
       "<table border=\"1\" class=\"dataframe\">\n",
       "  <thead>\n",
       "    <tr style=\"text-align: right;\">\n",
       "      <th></th>\n",
       "      <th>Closing price</th>\n",
       "      <th>EPS</th>\n",
       "      <th>Beta</th>\n",
       "      <th>P/E</th>\n",
       "      <th>Market Cap(B)</th>\n",
       "    </tr>\n",
       "  </thead>\n",
       "  <tbody>\n",
       "    <tr>\n",
       "      <th>Company A</th>\n",
       "      <td>346.15</td>\n",
       "      <td>1133.43</td>\n",
       "      <td>1</td>\n",
       "      <td>10</td>\n",
       "      <td>1254.05</td>\n",
       "    </tr>\n",
       "    <tr>\n",
       "      <th>Company B</th>\n",
       "      <td>0.59</td>\n",
       "      <td>36.05</td>\n",
       "      <td>2</td>\n",
       "      <td>20</td>\n",
       "      <td>43.20</td>\n",
       "    </tr>\n",
       "    <tr>\n",
       "      <th>Company C</th>\n",
       "      <td>459.00</td>\n",
       "      <td>145.02</td>\n",
       "      <td>3</td>\n",
       "      <td>30</td>\n",
       "      <td>2300.00</td>\n",
       "    </tr>\n",
       "    <tr>\n",
       "      <th>Company D</th>\n",
       "      <td>0.52</td>\n",
       "      <td>4.50</td>\n",
       "      <td>4</td>\n",
       "      <td>40</td>\n",
       "      <td>5.60</td>\n",
       "    </tr>\n",
       "    <tr>\n",
       "      <th>Company E</th>\n",
       "      <td>589.80</td>\n",
       "      <td>31.44</td>\n",
       "      <td>5</td>\n",
       "      <td>60</td>\n",
       "      <td>773.80</td>\n",
       "    </tr>\n",
       "    <tr>\n",
       "      <th>Company F</th>\n",
       "      <td>158.88</td>\n",
       "      <td>380.64</td>\n",
       "      <td>6</td>\n",
       "      <td>50</td>\n",
       "      <td>521.56</td>\n",
       "    </tr>\n",
       "  </tbody>\n",
       "</table>\n",
       "</div>"
      ],
      "text/plain": [
       "           Closing price      EPS  Beta  P/E  Market Cap(B)\n",
       "Company A         346.15  1133.43     1   10        1254.05\n",
       "Company B           0.59    36.05     2   20          43.20\n",
       "Company C         459.00   145.02     3   30        2300.00\n",
       "Company D           0.52     4.50     4   40           5.60\n",
       "Company E         589.80    31.44     5   60         773.80\n",
       "Company F         158.88   380.64     6   50         521.56"
      ]
     },
     "execution_count": 105,
     "metadata": {},
     "output_type": "execute_result"
    }
   ],
   "source": [
    "#let us view the data frame\n",
    "companydf"
   ]
  },
  {
   "cell_type": "code",
   "execution_count": 106,
   "id": "21579a6f-b31b-46f5-a627-91aa662666ec",
   "metadata": {},
   "outputs": [
    {
     "data": {
      "text/html": [
       "<div>\n",
       "<style scoped>\n",
       "    .dataframe tbody tr th:only-of-type {\n",
       "        vertical-align: middle;\n",
       "    }\n",
       "\n",
       "    .dataframe tbody tr th {\n",
       "        vertical-align: top;\n",
       "    }\n",
       "\n",
       "    .dataframe thead th {\n",
       "        text-align: right;\n",
       "    }\n",
       "</style>\n",
       "<table border=\"1\" class=\"dataframe\">\n",
       "  <thead>\n",
       "    <tr style=\"text-align: right;\">\n",
       "      <th></th>\n",
       "      <th>Closing price</th>\n",
       "      <th>EPS</th>\n",
       "      <th>Beta</th>\n",
       "      <th>P/E</th>\n",
       "      <th>Market Cap(B)</th>\n",
       "    </tr>\n",
       "  </thead>\n",
       "  <tbody>\n",
       "    <tr>\n",
       "      <th>Company A</th>\n",
       "      <td>346.15</td>\n",
       "      <td>1133.43</td>\n",
       "      <td>1</td>\n",
       "      <td>10</td>\n",
       "      <td>1254.05</td>\n",
       "    </tr>\n",
       "    <tr>\n",
       "      <th>Company B</th>\n",
       "      <td>0.59</td>\n",
       "      <td>36.05</td>\n",
       "      <td>2</td>\n",
       "      <td>20</td>\n",
       "      <td>43.20</td>\n",
       "    </tr>\n",
       "    <tr>\n",
       "      <th>Company C</th>\n",
       "      <td>459.00</td>\n",
       "      <td>145.02</td>\n",
       "      <td>3</td>\n",
       "      <td>30</td>\n",
       "      <td>2300.00</td>\n",
       "    </tr>\n",
       "    <tr>\n",
       "      <th>Company D</th>\n",
       "      <td>0.52</td>\n",
       "      <td>4.50</td>\n",
       "      <td>4</td>\n",
       "      <td>40</td>\n",
       "      <td>5.60</td>\n",
       "    </tr>\n",
       "    <tr>\n",
       "      <th>Company E</th>\n",
       "      <td>589.80</td>\n",
       "      <td>31.44</td>\n",
       "      <td>5</td>\n",
       "      <td>60</td>\n",
       "      <td>773.80</td>\n",
       "    </tr>\n",
       "    <tr>\n",
       "      <th>Company F</th>\n",
       "      <td>158.88</td>\n",
       "      <td>380.64</td>\n",
       "      <td>6</td>\n",
       "      <td>50</td>\n",
       "      <td>521.56</td>\n",
       "    </tr>\n",
       "  </tbody>\n",
       "</table>\n",
       "</div>"
      ],
      "text/plain": [
       "           Closing price      EPS  Beta  P/E  Market Cap(B)\n",
       "Company A         346.15  1133.43     1   10        1254.05\n",
       "Company B           0.59    36.05     2   20          43.20\n",
       "Company C         459.00   145.02     3   30        2300.00\n",
       "Company D           0.52     4.50     4   40           5.60\n",
       "Company E         589.80    31.44     5   60         773.80\n",
       "Company F         158.88   380.64     6   50         521.56"
      ]
     },
     "execution_count": 106,
     "metadata": {},
     "output_type": "execute_result"
    }
   ],
   "source": [
    "companydf[:]"
   ]
  },
  {
   "cell_type": "code",
   "execution_count": 112,
   "id": "e12b40c3-1442-4b31-8a31-ad9d1b328cc6",
   "metadata": {},
   "outputs": [
    {
     "data": {
      "text/html": [
       "<div>\n",
       "<style scoped>\n",
       "    .dataframe tbody tr th:only-of-type {\n",
       "        vertical-align: middle;\n",
       "    }\n",
       "\n",
       "    .dataframe tbody tr th {\n",
       "        vertical-align: top;\n",
       "    }\n",
       "\n",
       "    .dataframe thead th {\n",
       "        text-align: right;\n",
       "    }\n",
       "</style>\n",
       "<table border=\"1\" class=\"dataframe\">\n",
       "  <thead>\n",
       "    <tr style=\"text-align: right;\">\n",
       "      <th></th>\n",
       "      <th>Closing price</th>\n",
       "      <th>EPS</th>\n",
       "      <th>Beta</th>\n",
       "      <th>P/E</th>\n",
       "      <th>Market Cap(B)</th>\n",
       "    </tr>\n",
       "  </thead>\n",
       "  <tbody>\n",
       "    <tr>\n",
       "      <th>Company A</th>\n",
       "      <td>346.15</td>\n",
       "      <td>1133.43</td>\n",
       "      <td>1</td>\n",
       "      <td>10</td>\n",
       "      <td>1254.05</td>\n",
       "    </tr>\n",
       "    <tr>\n",
       "      <th>Company B</th>\n",
       "      <td>0.59</td>\n",
       "      <td>36.05</td>\n",
       "      <td>2</td>\n",
       "      <td>20</td>\n",
       "      <td>43.20</td>\n",
       "    </tr>\n",
       "    <tr>\n",
       "      <th>Company C</th>\n",
       "      <td>459.00</td>\n",
       "      <td>145.02</td>\n",
       "      <td>3</td>\n",
       "      <td>30</td>\n",
       "      <td>2300.00</td>\n",
       "    </tr>\n",
       "    <tr>\n",
       "      <th>Company D</th>\n",
       "      <td>0.52</td>\n",
       "      <td>4.50</td>\n",
       "      <td>4</td>\n",
       "      <td>40</td>\n",
       "      <td>5.60</td>\n",
       "    </tr>\n",
       "    <tr>\n",
       "      <th>Company E</th>\n",
       "      <td>589.80</td>\n",
       "      <td>31.44</td>\n",
       "      <td>5</td>\n",
       "      <td>60</td>\n",
       "      <td>773.80</td>\n",
       "    </tr>\n",
       "    <tr>\n",
       "      <th>Company F</th>\n",
       "      <td>158.88</td>\n",
       "      <td>380.64</td>\n",
       "      <td>6</td>\n",
       "      <td>50</td>\n",
       "      <td>521.56</td>\n",
       "    </tr>\n",
       "  </tbody>\n",
       "</table>\n",
       "</div>"
      ],
      "text/plain": [
       "           Closing price      EPS  Beta  P/E  Market Cap(B)\n",
       "Company A         346.15  1133.43     1   10        1254.05\n",
       "Company B           0.59    36.05     2   20          43.20\n",
       "Company C         459.00   145.02     3   30        2300.00\n",
       "Company D           0.52     4.50     4   40           5.60\n",
       "Company E         589.80    31.44     5   60         773.80\n",
       "Company F         158.88   380.64     6   50         521.56"
      ]
     },
     "execution_count": 112,
     "metadata": {},
     "output_type": "execute_result"
    }
   ],
   "source": [
    "companydf[0:]"
   ]
  },
  {
   "cell_type": "code",
   "execution_count": 113,
   "id": "62481f5f-e133-49b8-895b-3d16ba3ab66e",
   "metadata": {},
   "outputs": [
    {
     "data": {
      "text/html": [
       "<div>\n",
       "<style scoped>\n",
       "    .dataframe tbody tr th:only-of-type {\n",
       "        vertical-align: middle;\n",
       "    }\n",
       "\n",
       "    .dataframe tbody tr th {\n",
       "        vertical-align: top;\n",
       "    }\n",
       "\n",
       "    .dataframe thead th {\n",
       "        text-align: right;\n",
       "    }\n",
       "</style>\n",
       "<table border=\"1\" class=\"dataframe\">\n",
       "  <thead>\n",
       "    <tr style=\"text-align: right;\">\n",
       "      <th></th>\n",
       "      <th>Closing price</th>\n",
       "      <th>EPS</th>\n",
       "      <th>Beta</th>\n",
       "      <th>P/E</th>\n",
       "      <th>Market Cap(B)</th>\n",
       "    </tr>\n",
       "  </thead>\n",
       "  <tbody>\n",
       "    <tr>\n",
       "      <th>Company B</th>\n",
       "      <td>0.59</td>\n",
       "      <td>36.05</td>\n",
       "      <td>2</td>\n",
       "      <td>20</td>\n",
       "      <td>43.20</td>\n",
       "    </tr>\n",
       "    <tr>\n",
       "      <th>Company C</th>\n",
       "      <td>459.00</td>\n",
       "      <td>145.02</td>\n",
       "      <td>3</td>\n",
       "      <td>30</td>\n",
       "      <td>2300.00</td>\n",
       "    </tr>\n",
       "    <tr>\n",
       "      <th>Company D</th>\n",
       "      <td>0.52</td>\n",
       "      <td>4.50</td>\n",
       "      <td>4</td>\n",
       "      <td>40</td>\n",
       "      <td>5.60</td>\n",
       "    </tr>\n",
       "    <tr>\n",
       "      <th>Company E</th>\n",
       "      <td>589.80</td>\n",
       "      <td>31.44</td>\n",
       "      <td>5</td>\n",
       "      <td>60</td>\n",
       "      <td>773.80</td>\n",
       "    </tr>\n",
       "    <tr>\n",
       "      <th>Company F</th>\n",
       "      <td>158.88</td>\n",
       "      <td>380.64</td>\n",
       "      <td>6</td>\n",
       "      <td>50</td>\n",
       "      <td>521.56</td>\n",
       "    </tr>\n",
       "  </tbody>\n",
       "</table>\n",
       "</div>"
      ],
      "text/plain": [
       "           Closing price     EPS  Beta  P/E  Market Cap(B)\n",
       "Company B           0.59   36.05     2   20          43.20\n",
       "Company C         459.00  145.02     3   30        2300.00\n",
       "Company D           0.52    4.50     4   40           5.60\n",
       "Company E         589.80   31.44     5   60         773.80\n",
       "Company F         158.88  380.64     6   50         521.56"
      ]
     },
     "execution_count": 113,
     "metadata": {},
     "output_type": "execute_result"
    }
   ],
   "source": [
    "companydf[1:]"
   ]
  },
  {
   "cell_type": "code",
   "execution_count": null,
   "id": "1998b042-d3f1-476b-b7d9-36f3a003a594",
   "metadata": {},
   "outputs": [],
   "source": []
  },
  {
   "cell_type": "code",
   "execution_count": 115,
   "id": "f01a2314-2fd4-4256-bfcb-733ce7d9be9d",
   "metadata": {},
   "outputs": [
    {
     "data": {
      "text/html": [
       "<div>\n",
       "<style scoped>\n",
       "    .dataframe tbody tr th:only-of-type {\n",
       "        vertical-align: middle;\n",
       "    }\n",
       "\n",
       "    .dataframe tbody tr th {\n",
       "        vertical-align: top;\n",
       "    }\n",
       "\n",
       "    .dataframe thead th {\n",
       "        text-align: right;\n",
       "    }\n",
       "</style>\n",
       "<table border=\"1\" class=\"dataframe\">\n",
       "  <thead>\n",
       "    <tr style=\"text-align: right;\">\n",
       "      <th></th>\n",
       "      <th>Closing price</th>\n",
       "      <th>EPS</th>\n",
       "      <th>Beta</th>\n",
       "      <th>P/E</th>\n",
       "      <th>Market Cap(B)</th>\n",
       "    </tr>\n",
       "  </thead>\n",
       "  <tbody>\n",
       "  </tbody>\n",
       "</table>\n",
       "</div>"
      ],
      "text/plain": [
       "Empty DataFrame\n",
       "Columns: [Closing price, EPS, Beta, P/E, Market Cap(B)]\n",
       "Index: []"
      ]
     },
     "execution_count": 115,
     "metadata": {},
     "output_type": "execute_result"
    }
   ],
   "source": [
    "companydf[:0]"
   ]
  },
  {
   "cell_type": "code",
   "execution_count": 116,
   "id": "54dba86a-9478-4e2c-b4a7-9dd5db78a502",
   "metadata": {},
   "outputs": [
    {
     "data": {
      "text/html": [
       "<div>\n",
       "<style scoped>\n",
       "    .dataframe tbody tr th:only-of-type {\n",
       "        vertical-align: middle;\n",
       "    }\n",
       "\n",
       "    .dataframe tbody tr th {\n",
       "        vertical-align: top;\n",
       "    }\n",
       "\n",
       "    .dataframe thead th {\n",
       "        text-align: right;\n",
       "    }\n",
       "</style>\n",
       "<table border=\"1\" class=\"dataframe\">\n",
       "  <thead>\n",
       "    <tr style=\"text-align: right;\">\n",
       "      <th></th>\n",
       "      <th>Closing price</th>\n",
       "      <th>EPS</th>\n",
       "      <th>Beta</th>\n",
       "      <th>P/E</th>\n",
       "      <th>Market Cap(B)</th>\n",
       "    </tr>\n",
       "  </thead>\n",
       "  <tbody>\n",
       "    <tr>\n",
       "      <th>Company A</th>\n",
       "      <td>346.15</td>\n",
       "      <td>1133.43</td>\n",
       "      <td>1</td>\n",
       "      <td>10</td>\n",
       "      <td>1254.05</td>\n",
       "    </tr>\n",
       "  </tbody>\n",
       "</table>\n",
       "</div>"
      ],
      "text/plain": [
       "           Closing price      EPS  Beta  P/E  Market Cap(B)\n",
       "Company A         346.15  1133.43     1   10        1254.05"
      ]
     },
     "execution_count": 116,
     "metadata": {},
     "output_type": "execute_result"
    }
   ],
   "source": [
    "companydf[:1]"
   ]
  },
  {
   "cell_type": "code",
   "execution_count": 117,
   "id": "f9ffa1b6-ad31-4e3b-8d46-fac5b4ae6fd4",
   "metadata": {},
   "outputs": [
    {
     "data": {
      "text/html": [
       "<div>\n",
       "<style scoped>\n",
       "    .dataframe tbody tr th:only-of-type {\n",
       "        vertical-align: middle;\n",
       "    }\n",
       "\n",
       "    .dataframe tbody tr th {\n",
       "        vertical-align: top;\n",
       "    }\n",
       "\n",
       "    .dataframe thead th {\n",
       "        text-align: right;\n",
       "    }\n",
       "</style>\n",
       "<table border=\"1\" class=\"dataframe\">\n",
       "  <thead>\n",
       "    <tr style=\"text-align: right;\">\n",
       "      <th></th>\n",
       "      <th>Closing price</th>\n",
       "      <th>EPS</th>\n",
       "      <th>Beta</th>\n",
       "      <th>P/E</th>\n",
       "      <th>Market Cap(B)</th>\n",
       "    </tr>\n",
       "  </thead>\n",
       "  <tbody>\n",
       "    <tr>\n",
       "      <th>Company A</th>\n",
       "      <td>346.15</td>\n",
       "      <td>1133.43</td>\n",
       "      <td>1</td>\n",
       "      <td>10</td>\n",
       "      <td>1254.05</td>\n",
       "    </tr>\n",
       "    <tr>\n",
       "      <th>Company B</th>\n",
       "      <td>0.59</td>\n",
       "      <td>36.05</td>\n",
       "      <td>2</td>\n",
       "      <td>20</td>\n",
       "      <td>43.20</td>\n",
       "    </tr>\n",
       "  </tbody>\n",
       "</table>\n",
       "</div>"
      ],
      "text/plain": [
       "           Closing price      EPS  Beta  P/E  Market Cap(B)\n",
       "Company A         346.15  1133.43     1   10        1254.05\n",
       "Company B           0.59    36.05     2   20          43.20"
      ]
     },
     "execution_count": 117,
     "metadata": {},
     "output_type": "execute_result"
    }
   ],
   "source": [
    "companydf[:2]"
   ]
  },
  {
   "cell_type": "code",
   "execution_count": 21,
   "id": "b60d5f29",
   "metadata": {
    "code_folding": []
   },
   "outputs": [
    {
     "data": {
      "text/html": [
       "<div>\n",
       "<style scoped>\n",
       "    .dataframe tbody tr th:only-of-type {\n",
       "        vertical-align: middle;\n",
       "    }\n",
       "\n",
       "    .dataframe tbody tr th {\n",
       "        vertical-align: top;\n",
       "    }\n",
       "\n",
       "    .dataframe thead th {\n",
       "        text-align: right;\n",
       "    }\n",
       "</style>\n",
       "<table border=\"1\" class=\"dataframe\">\n",
       "  <thead>\n",
       "    <tr style=\"text-align: right;\">\n",
       "      <th></th>\n",
       "      <th>Closing price</th>\n",
       "      <th>EPS</th>\n",
       "      <th>Beta</th>\n",
       "      <th>P/E</th>\n",
       "      <th>Market Cap(B)</th>\n",
       "    </tr>\n",
       "  </thead>\n",
       "  <tbody>\n",
       "    <tr>\n",
       "      <th>Company B</th>\n",
       "      <td>0.59</td>\n",
       "      <td>36.05</td>\n",
       "      <td>2</td>\n",
       "      <td>20</td>\n",
       "      <td>43.2</td>\n",
       "    </tr>\n",
       "    <tr>\n",
       "      <th>Company C</th>\n",
       "      <td>459.00</td>\n",
       "      <td>145.02</td>\n",
       "      <td>3</td>\n",
       "      <td>30</td>\n",
       "      <td>2300.0</td>\n",
       "    </tr>\n",
       "    <tr>\n",
       "      <th>Company D</th>\n",
       "      <td>0.52</td>\n",
       "      <td>4.50</td>\n",
       "      <td>4</td>\n",
       "      <td>40</td>\n",
       "      <td>5.6</td>\n",
       "    </tr>\n",
       "  </tbody>\n",
       "</table>\n",
       "</div>"
      ],
      "text/plain": [
       "           Closing price     EPS  Beta  P/E  Market Cap(B)\n",
       "Company B           0.59   36.05     2   20           43.2\n",
       "Company C         459.00  145.02     3   30         2300.0\n",
       "Company D           0.52    4.50     4   40            5.6"
      ]
     },
     "execution_count": 21,
     "metadata": {},
     "output_type": "execute_result"
    }
   ],
   "source": [
    "#extract only few rows by specifying starting and ending row indices\n",
    "#the first index in the slicing is included and the last index is not\n",
    "\n",
    "companydf[1:4]    "
   ]
  },
  {
   "cell_type": "code",
   "execution_count": 22,
   "id": "f0baf13e",
   "metadata": {
    "code_folding": []
   },
   "outputs": [
    {
     "data": {
      "text/html": [
       "<div>\n",
       "<style scoped>\n",
       "    .dataframe tbody tr th:only-of-type {\n",
       "        vertical-align: middle;\n",
       "    }\n",
       "\n",
       "    .dataframe tbody tr th {\n",
       "        vertical-align: top;\n",
       "    }\n",
       "\n",
       "    .dataframe thead th {\n",
       "        text-align: right;\n",
       "    }\n",
       "</style>\n",
       "<table border=\"1\" class=\"dataframe\">\n",
       "  <thead>\n",
       "    <tr style=\"text-align: right;\">\n",
       "      <th></th>\n",
       "      <th>Closing price</th>\n",
       "      <th>EPS</th>\n",
       "      <th>Beta</th>\n",
       "      <th>P/E</th>\n",
       "      <th>Market Cap(B)</th>\n",
       "    </tr>\n",
       "  </thead>\n",
       "  <tbody>\n",
       "    <tr>\n",
       "      <th>Company D</th>\n",
       "      <td>0.52</td>\n",
       "      <td>4.50</td>\n",
       "      <td>4</td>\n",
       "      <td>40</td>\n",
       "      <td>5.60</td>\n",
       "    </tr>\n",
       "    <tr>\n",
       "      <th>Company E</th>\n",
       "      <td>589.80</td>\n",
       "      <td>31.44</td>\n",
       "      <td>5</td>\n",
       "      <td>60</td>\n",
       "      <td>773.80</td>\n",
       "    </tr>\n",
       "    <tr>\n",
       "      <th>Company F</th>\n",
       "      <td>158.88</td>\n",
       "      <td>380.64</td>\n",
       "      <td>6</td>\n",
       "      <td>50</td>\n",
       "      <td>521.56</td>\n",
       "    </tr>\n",
       "  </tbody>\n",
       "</table>\n",
       "</div>"
      ],
      "text/plain": [
       "           Closing price     EPS  Beta  P/E  Market Cap(B)\n",
       "Company D           0.52    4.50     4   40           5.60\n",
       "Company E         589.80   31.44     5   60         773.80\n",
       "Company F         158.88  380.64     6   50         521.56"
      ]
     },
     "execution_count": 22,
     "metadata": {},
     "output_type": "execute_result"
    }
   ],
   "source": [
    "#The dataframe can understand the negative indices, where -1, -2 etc. indicates the rows from the last \n",
    "\n",
    "companydf[-3:]    #extract rows from the index -3 till the end of the dataframe"
   ]
  },
  {
   "cell_type": "code",
   "execution_count": 23,
   "id": "ed99b888",
   "metadata": {
    "code_folding": []
   },
   "outputs": [
    {
     "data": {
      "text/plain": [
       "Company A    1133.43\n",
       "Company B      36.05\n",
       "Company C     145.02\n",
       "Company D       4.50\n",
       "Company E      31.44\n",
       "Company F     380.64\n",
       "Name: EPS, dtype: float64"
      ]
     },
     "execution_count": 23,
     "metadata": {},
     "output_type": "execute_result"
    }
   ],
   "source": [
    "#extract only a particular column \n",
    "companydf['EPS']    #observe that the result is a series "
   ]
  },
  {
   "cell_type": "code",
   "execution_count": 122,
   "id": "5af8fc5c",
   "metadata": {
    "code_folding": []
   },
   "outputs": [
    {
     "data": {
      "text/plain": [
       "Company B    2\n",
       "Company C    3\n",
       "Company D    4\n",
       "Name: Beta, dtype: int64"
      ]
     },
     "execution_count": 122,
     "metadata": {},
     "output_type": "execute_result"
    }
   ],
   "source": [
    "#extract one column with required rows\n",
    "companydf['Beta'][1:4]     #column is extracted first, and from that series, required rows are sliced"
   ]
  },
  {
   "cell_type": "markdown",
   "id": "8c8c5eb8",
   "metadata": {},
   "source": [
    "#### Using functions `loc()` and `iloc()`\n",
    "- `loc` gets rows (or columns) with particular labels/header name for both rows and columns\n",
    "- `iloc` gets rows (or columns) at particular positions (so it only takes integers)."
   ]
  },
  {
   "cell_type": "code",
   "execution_count": 123,
   "id": "50448e7a",
   "metadata": {
    "code_folding": []
   },
   "outputs": [
    {
     "data": {
      "text/html": [
       "<div>\n",
       "<style scoped>\n",
       "    .dataframe tbody tr th:only-of-type {\n",
       "        vertical-align: middle;\n",
       "    }\n",
       "\n",
       "    .dataframe tbody tr th {\n",
       "        vertical-align: top;\n",
       "    }\n",
       "\n",
       "    .dataframe thead th {\n",
       "        text-align: right;\n",
       "    }\n",
       "</style>\n",
       "<table border=\"1\" class=\"dataframe\">\n",
       "  <thead>\n",
       "    <tr style=\"text-align: right;\">\n",
       "      <th></th>\n",
       "      <th>Closing price</th>\n",
       "      <th>EPS</th>\n",
       "      <th>Beta</th>\n",
       "      <th>P/E</th>\n",
       "      <th>Market Cap(B)</th>\n",
       "    </tr>\n",
       "  </thead>\n",
       "  <tbody>\n",
       "    <tr>\n",
       "      <th>Company B</th>\n",
       "      <td>0.59</td>\n",
       "      <td>36.05</td>\n",
       "      <td>2</td>\n",
       "      <td>20</td>\n",
       "      <td>43.2</td>\n",
       "    </tr>\n",
       "    <tr>\n",
       "      <th>Company C</th>\n",
       "      <td>459.00</td>\n",
       "      <td>145.02</td>\n",
       "      <td>3</td>\n",
       "      <td>30</td>\n",
       "      <td>2300.0</td>\n",
       "    </tr>\n",
       "    <tr>\n",
       "      <th>Company D</th>\n",
       "      <td>0.52</td>\n",
       "      <td>4.50</td>\n",
       "      <td>4</td>\n",
       "      <td>40</td>\n",
       "      <td>5.6</td>\n",
       "    </tr>\n",
       "  </tbody>\n",
       "</table>\n",
       "</div>"
      ],
      "text/plain": [
       "           Closing price     EPS  Beta  P/E  Market Cap(B)\n",
       "Company B           0.59   36.05     2   20           43.2\n",
       "Company C         459.00  145.02     3   30         2300.0\n",
       "Company D           0.52    4.50     4   40            5.6"
      ]
     },
     "execution_count": 123,
     "metadata": {},
     "output_type": "execute_result"
    }
   ],
   "source": [
    "# We must give the actual indices which are in string format\n",
    "companydf.loc['Company B': 'Company D']       #note that both starting and ending indices are inclusive"
   ]
  },
  {
   "cell_type": "code",
   "execution_count": 124,
   "id": "316af4a8",
   "metadata": {
    "code_folding": []
   },
   "outputs": [
    {
     "data": {
      "text/html": [
       "<div>\n",
       "<style scoped>\n",
       "    .dataframe tbody tr th:only-of-type {\n",
       "        vertical-align: middle;\n",
       "    }\n",
       "\n",
       "    .dataframe tbody tr th {\n",
       "        vertical-align: top;\n",
       "    }\n",
       "\n",
       "    .dataframe thead th {\n",
       "        text-align: right;\n",
       "    }\n",
       "</style>\n",
       "<table border=\"1\" class=\"dataframe\">\n",
       "  <thead>\n",
       "    <tr style=\"text-align: right;\">\n",
       "      <th></th>\n",
       "      <th>EPS</th>\n",
       "      <th>Beta</th>\n",
       "    </tr>\n",
       "  </thead>\n",
       "  <tbody>\n",
       "    <tr>\n",
       "      <th>Company B</th>\n",
       "      <td>36.05</td>\n",
       "      <td>2</td>\n",
       "    </tr>\n",
       "    <tr>\n",
       "      <th>Company C</th>\n",
       "      <td>145.02</td>\n",
       "      <td>3</td>\n",
       "    </tr>\n",
       "    <tr>\n",
       "      <th>Company D</th>\n",
       "      <td>4.50</td>\n",
       "      <td>4</td>\n",
       "    </tr>\n",
       "  </tbody>\n",
       "</table>\n",
       "</div>"
      ],
      "text/plain": [
       "              EPS  Beta\n",
       "Company B   36.05     2\n",
       "Company C  145.02     3\n",
       "Company D    4.50     4"
      ]
     },
     "execution_count": 124,
     "metadata": {},
     "output_type": "execute_result"
    }
   ],
   "source": [
    "# observe the list of column names used to extract only the required columns\n",
    "companydf.loc['Company B': 'Company D'][['EPS', 'Beta']] "
   ]
  },
  {
   "cell_type": "code",
   "execution_count": 127,
   "id": "66686cd1",
   "metadata": {
    "code_folding": [],
    "scrolled": true
   },
   "outputs": [
    {
     "ename": "TypeError",
     "evalue": "cannot do slice indexing on Index with these indexers [3] of type int",
     "output_type": "error",
     "traceback": [
      "\u001b[0;31m---------------------------------------------------------------------------\u001b[0m",
      "\u001b[0;31mTypeError\u001b[0m                                 Traceback (most recent call last)",
      "Cell \u001b[0;32mIn[127], line 2\u001b[0m\n\u001b[1;32m      1\u001b[0m \u001b[38;5;66;03m#following code generates error, because the row indices of the data frame are not numbers\u001b[39;00m\n\u001b[0;32m----> 2\u001b[0m \u001b[43mcompanydf\u001b[49m\u001b[38;5;241;43m.\u001b[39;49m\u001b[43mloc\u001b[49m\u001b[43m[\u001b[49m\u001b[43m:\u001b[49m\u001b[38;5;241;43m3\u001b[39;49m\u001b[43m]\u001b[49m    \n",
      "File \u001b[0;32m~/.pyenv/versions/3.10.13/lib/python3.10/site-packages/pandas/core/indexing.py:1191\u001b[0m, in \u001b[0;36m_LocationIndexer.__getitem__\u001b[0;34m(self, key)\u001b[0m\n\u001b[1;32m   1189\u001b[0m maybe_callable \u001b[38;5;241m=\u001b[39m com\u001b[38;5;241m.\u001b[39mapply_if_callable(key, \u001b[38;5;28mself\u001b[39m\u001b[38;5;241m.\u001b[39mobj)\n\u001b[1;32m   1190\u001b[0m maybe_callable \u001b[38;5;241m=\u001b[39m \u001b[38;5;28mself\u001b[39m\u001b[38;5;241m.\u001b[39m_check_deprecated_callable_usage(key, maybe_callable)\n\u001b[0;32m-> 1191\u001b[0m \u001b[38;5;28;01mreturn\u001b[39;00m \u001b[38;5;28;43mself\u001b[39;49m\u001b[38;5;241;43m.\u001b[39;49m\u001b[43m_getitem_axis\u001b[49m\u001b[43m(\u001b[49m\u001b[43mmaybe_callable\u001b[49m\u001b[43m,\u001b[49m\u001b[43m \u001b[49m\u001b[43maxis\u001b[49m\u001b[38;5;241;43m=\u001b[39;49m\u001b[43maxis\u001b[49m\u001b[43m)\u001b[49m\n",
      "File \u001b[0;32m~/.pyenv/versions/3.10.13/lib/python3.10/site-packages/pandas/core/indexing.py:1411\u001b[0m, in \u001b[0;36m_LocIndexer._getitem_axis\u001b[0;34m(self, key, axis)\u001b[0m\n\u001b[1;32m   1409\u001b[0m \u001b[38;5;28;01mif\u001b[39;00m \u001b[38;5;28misinstance\u001b[39m(key, \u001b[38;5;28mslice\u001b[39m):\n\u001b[1;32m   1410\u001b[0m     \u001b[38;5;28mself\u001b[39m\u001b[38;5;241m.\u001b[39m_validate_key(key, axis)\n\u001b[0;32m-> 1411\u001b[0m     \u001b[38;5;28;01mreturn\u001b[39;00m \u001b[38;5;28;43mself\u001b[39;49m\u001b[38;5;241;43m.\u001b[39;49m\u001b[43m_get_slice_axis\u001b[49m\u001b[43m(\u001b[49m\u001b[43mkey\u001b[49m\u001b[43m,\u001b[49m\u001b[43m \u001b[49m\u001b[43maxis\u001b[49m\u001b[38;5;241;43m=\u001b[39;49m\u001b[43maxis\u001b[49m\u001b[43m)\u001b[49m\n\u001b[1;32m   1412\u001b[0m \u001b[38;5;28;01melif\u001b[39;00m com\u001b[38;5;241m.\u001b[39mis_bool_indexer(key):\n\u001b[1;32m   1413\u001b[0m     \u001b[38;5;28;01mreturn\u001b[39;00m \u001b[38;5;28mself\u001b[39m\u001b[38;5;241m.\u001b[39m_getbool_axis(key, axis\u001b[38;5;241m=\u001b[39maxis)\n",
      "File \u001b[0;32m~/.pyenv/versions/3.10.13/lib/python3.10/site-packages/pandas/core/indexing.py:1443\u001b[0m, in \u001b[0;36m_LocIndexer._get_slice_axis\u001b[0;34m(self, slice_obj, axis)\u001b[0m\n\u001b[1;32m   1440\u001b[0m     \u001b[38;5;28;01mreturn\u001b[39;00m obj\u001b[38;5;241m.\u001b[39mcopy(deep\u001b[38;5;241m=\u001b[39m\u001b[38;5;28;01mFalse\u001b[39;00m)\n\u001b[1;32m   1442\u001b[0m labels \u001b[38;5;241m=\u001b[39m obj\u001b[38;5;241m.\u001b[39m_get_axis(axis)\n\u001b[0;32m-> 1443\u001b[0m indexer \u001b[38;5;241m=\u001b[39m \u001b[43mlabels\u001b[49m\u001b[38;5;241;43m.\u001b[39;49m\u001b[43mslice_indexer\u001b[49m\u001b[43m(\u001b[49m\u001b[43mslice_obj\u001b[49m\u001b[38;5;241;43m.\u001b[39;49m\u001b[43mstart\u001b[49m\u001b[43m,\u001b[49m\u001b[43m \u001b[49m\u001b[43mslice_obj\u001b[49m\u001b[38;5;241;43m.\u001b[39;49m\u001b[43mstop\u001b[49m\u001b[43m,\u001b[49m\u001b[43m \u001b[49m\u001b[43mslice_obj\u001b[49m\u001b[38;5;241;43m.\u001b[39;49m\u001b[43mstep\u001b[49m\u001b[43m)\u001b[49m\n\u001b[1;32m   1445\u001b[0m \u001b[38;5;28;01mif\u001b[39;00m \u001b[38;5;28misinstance\u001b[39m(indexer, \u001b[38;5;28mslice\u001b[39m):\n\u001b[1;32m   1446\u001b[0m     \u001b[38;5;28;01mreturn\u001b[39;00m \u001b[38;5;28mself\u001b[39m\u001b[38;5;241m.\u001b[39mobj\u001b[38;5;241m.\u001b[39m_slice(indexer, axis\u001b[38;5;241m=\u001b[39maxis)\n",
      "File \u001b[0;32m~/.pyenv/versions/3.10.13/lib/python3.10/site-packages/pandas/core/indexes/base.py:6662\u001b[0m, in \u001b[0;36mIndex.slice_indexer\u001b[0;34m(self, start, end, step)\u001b[0m\n\u001b[1;32m   6618\u001b[0m \u001b[38;5;28;01mdef\u001b[39;00m \u001b[38;5;21mslice_indexer\u001b[39m(\n\u001b[1;32m   6619\u001b[0m     \u001b[38;5;28mself\u001b[39m,\n\u001b[1;32m   6620\u001b[0m     start: Hashable \u001b[38;5;241m|\u001b[39m \u001b[38;5;28;01mNone\u001b[39;00m \u001b[38;5;241m=\u001b[39m \u001b[38;5;28;01mNone\u001b[39;00m,\n\u001b[1;32m   6621\u001b[0m     end: Hashable \u001b[38;5;241m|\u001b[39m \u001b[38;5;28;01mNone\u001b[39;00m \u001b[38;5;241m=\u001b[39m \u001b[38;5;28;01mNone\u001b[39;00m,\n\u001b[1;32m   6622\u001b[0m     step: \u001b[38;5;28mint\u001b[39m \u001b[38;5;241m|\u001b[39m \u001b[38;5;28;01mNone\u001b[39;00m \u001b[38;5;241m=\u001b[39m \u001b[38;5;28;01mNone\u001b[39;00m,\n\u001b[1;32m   6623\u001b[0m ) \u001b[38;5;241m-\u001b[39m\u001b[38;5;241m>\u001b[39m \u001b[38;5;28mslice\u001b[39m:\n\u001b[1;32m   6624\u001b[0m \u001b[38;5;250m    \u001b[39m\u001b[38;5;124;03m\"\"\"\u001b[39;00m\n\u001b[1;32m   6625\u001b[0m \u001b[38;5;124;03m    Compute the slice indexer for input labels and step.\u001b[39;00m\n\u001b[1;32m   6626\u001b[0m \n\u001b[0;32m   (...)\u001b[0m\n\u001b[1;32m   6660\u001b[0m \u001b[38;5;124;03m    slice(1, 3, None)\u001b[39;00m\n\u001b[1;32m   6661\u001b[0m \u001b[38;5;124;03m    \"\"\"\u001b[39;00m\n\u001b[0;32m-> 6662\u001b[0m     start_slice, end_slice \u001b[38;5;241m=\u001b[39m \u001b[38;5;28;43mself\u001b[39;49m\u001b[38;5;241;43m.\u001b[39;49m\u001b[43mslice_locs\u001b[49m\u001b[43m(\u001b[49m\u001b[43mstart\u001b[49m\u001b[43m,\u001b[49m\u001b[43m \u001b[49m\u001b[43mend\u001b[49m\u001b[43m,\u001b[49m\u001b[43m \u001b[49m\u001b[43mstep\u001b[49m\u001b[38;5;241;43m=\u001b[39;49m\u001b[43mstep\u001b[49m\u001b[43m)\u001b[49m\n\u001b[1;32m   6664\u001b[0m     \u001b[38;5;66;03m# return a slice\u001b[39;00m\n\u001b[1;32m   6665\u001b[0m     \u001b[38;5;28;01mif\u001b[39;00m \u001b[38;5;129;01mnot\u001b[39;00m is_scalar(start_slice):\n",
      "File \u001b[0;32m~/.pyenv/versions/3.10.13/lib/python3.10/site-packages/pandas/core/indexes/base.py:6885\u001b[0m, in \u001b[0;36mIndex.slice_locs\u001b[0;34m(self, start, end, step)\u001b[0m\n\u001b[1;32m   6883\u001b[0m end_slice \u001b[38;5;241m=\u001b[39m \u001b[38;5;28;01mNone\u001b[39;00m\n\u001b[1;32m   6884\u001b[0m \u001b[38;5;28;01mif\u001b[39;00m end \u001b[38;5;129;01mis\u001b[39;00m \u001b[38;5;129;01mnot\u001b[39;00m \u001b[38;5;28;01mNone\u001b[39;00m:\n\u001b[0;32m-> 6885\u001b[0m     end_slice \u001b[38;5;241m=\u001b[39m \u001b[38;5;28;43mself\u001b[39;49m\u001b[38;5;241;43m.\u001b[39;49m\u001b[43mget_slice_bound\u001b[49m\u001b[43m(\u001b[49m\u001b[43mend\u001b[49m\u001b[43m,\u001b[49m\u001b[43m \u001b[49m\u001b[38;5;124;43m\"\u001b[39;49m\u001b[38;5;124;43mright\u001b[39;49m\u001b[38;5;124;43m\"\u001b[39;49m\u001b[43m)\u001b[49m\n\u001b[1;32m   6886\u001b[0m \u001b[38;5;28;01mif\u001b[39;00m end_slice \u001b[38;5;129;01mis\u001b[39;00m \u001b[38;5;28;01mNone\u001b[39;00m:\n\u001b[1;32m   6887\u001b[0m     end_slice \u001b[38;5;241m=\u001b[39m \u001b[38;5;28mlen\u001b[39m(\u001b[38;5;28mself\u001b[39m)\n",
      "File \u001b[0;32m~/.pyenv/versions/3.10.13/lib/python3.10/site-packages/pandas/core/indexes/base.py:6794\u001b[0m, in \u001b[0;36mIndex.get_slice_bound\u001b[0;34m(self, label, side)\u001b[0m\n\u001b[1;32m   6790\u001b[0m original_label \u001b[38;5;241m=\u001b[39m label\n\u001b[1;32m   6792\u001b[0m \u001b[38;5;66;03m# For datetime indices label may be a string that has to be converted\u001b[39;00m\n\u001b[1;32m   6793\u001b[0m \u001b[38;5;66;03m# to datetime boundary according to its resolution.\u001b[39;00m\n\u001b[0;32m-> 6794\u001b[0m label \u001b[38;5;241m=\u001b[39m \u001b[38;5;28;43mself\u001b[39;49m\u001b[38;5;241;43m.\u001b[39;49m\u001b[43m_maybe_cast_slice_bound\u001b[49m\u001b[43m(\u001b[49m\u001b[43mlabel\u001b[49m\u001b[43m,\u001b[49m\u001b[43m \u001b[49m\u001b[43mside\u001b[49m\u001b[43m)\u001b[49m\n\u001b[1;32m   6796\u001b[0m \u001b[38;5;66;03m# we need to look up the label\u001b[39;00m\n\u001b[1;32m   6797\u001b[0m \u001b[38;5;28;01mtry\u001b[39;00m:\n",
      "File \u001b[0;32m~/.pyenv/versions/3.10.13/lib/python3.10/site-packages/pandas/core/indexes/base.py:6727\u001b[0m, in \u001b[0;36mIndex._maybe_cast_slice_bound\u001b[0;34m(self, label, side)\u001b[0m\n\u001b[1;32m   6725\u001b[0m \u001b[38;5;66;03m# reject them, if index does not contain label\u001b[39;00m\n\u001b[1;32m   6726\u001b[0m \u001b[38;5;28;01mif\u001b[39;00m (is_float(label) \u001b[38;5;129;01mor\u001b[39;00m is_integer(label)) \u001b[38;5;129;01mand\u001b[39;00m label \u001b[38;5;129;01mnot\u001b[39;00m \u001b[38;5;129;01min\u001b[39;00m \u001b[38;5;28mself\u001b[39m:\n\u001b[0;32m-> 6727\u001b[0m     \u001b[38;5;28;43mself\u001b[39;49m\u001b[38;5;241;43m.\u001b[39;49m\u001b[43m_raise_invalid_indexer\u001b[49m\u001b[43m(\u001b[49m\u001b[38;5;124;43m\"\u001b[39;49m\u001b[38;5;124;43mslice\u001b[39;49m\u001b[38;5;124;43m\"\u001b[39;49m\u001b[43m,\u001b[49m\u001b[43m \u001b[49m\u001b[43mlabel\u001b[49m\u001b[43m)\u001b[49m\n\u001b[1;32m   6729\u001b[0m \u001b[38;5;28;01mreturn\u001b[39;00m label\n",
      "File \u001b[0;32m~/.pyenv/versions/3.10.13/lib/python3.10/site-packages/pandas/core/indexes/base.py:4301\u001b[0m, in \u001b[0;36mIndex._raise_invalid_indexer\u001b[0;34m(self, form, key, reraise)\u001b[0m\n\u001b[1;32m   4299\u001b[0m \u001b[38;5;28;01mif\u001b[39;00m reraise \u001b[38;5;129;01mis\u001b[39;00m \u001b[38;5;129;01mnot\u001b[39;00m lib\u001b[38;5;241m.\u001b[39mno_default:\n\u001b[1;32m   4300\u001b[0m     \u001b[38;5;28;01mraise\u001b[39;00m \u001b[38;5;167;01mTypeError\u001b[39;00m(msg) \u001b[38;5;28;01mfrom\u001b[39;00m \u001b[38;5;21;01mreraise\u001b[39;00m\n\u001b[0;32m-> 4301\u001b[0m \u001b[38;5;28;01mraise\u001b[39;00m \u001b[38;5;167;01mTypeError\u001b[39;00m(msg)\n",
      "\u001b[0;31mTypeError\u001b[0m: cannot do slice indexing on Index with these indexers [3] of type int"
     ]
    }
   ],
   "source": [
    "#following code generates error, because the row indices of the data frame are not numbers\n",
    "companydf.loc[:3]    "
   ]
  },
  {
   "cell_type": "code",
   "execution_count": 128,
   "id": "cb731d14",
   "metadata": {
    "code_folding": []
   },
   "outputs": [
    {
     "data": {
      "text/html": [
       "<div>\n",
       "<style scoped>\n",
       "    .dataframe tbody tr th:only-of-type {\n",
       "        vertical-align: middle;\n",
       "    }\n",
       "\n",
       "    .dataframe tbody tr th {\n",
       "        vertical-align: top;\n",
       "    }\n",
       "\n",
       "    .dataframe thead th {\n",
       "        text-align: right;\n",
       "    }\n",
       "</style>\n",
       "<table border=\"1\" class=\"dataframe\">\n",
       "  <thead>\n",
       "    <tr style=\"text-align: right;\">\n",
       "      <th></th>\n",
       "      <th>Closing price</th>\n",
       "      <th>EPS</th>\n",
       "    </tr>\n",
       "  </thead>\n",
       "  <tbody>\n",
       "    <tr>\n",
       "      <th>Company B</th>\n",
       "      <td>0.59</td>\n",
       "      <td>36.05</td>\n",
       "    </tr>\n",
       "    <tr>\n",
       "      <th>Company C</th>\n",
       "      <td>459.00</td>\n",
       "      <td>145.02</td>\n",
       "    </tr>\n",
       "  </tbody>\n",
       "</table>\n",
       "</div>"
      ],
      "text/plain": [
       "           Closing price     EPS\n",
       "Company B           0.59   36.05\n",
       "Company C         459.00  145.02"
      ]
     },
     "execution_count": 128,
     "metadata": {},
     "output_type": "execute_result"
    }
   ],
   "source": [
    "# when you want to extract the rows and columns using the index positions, use iloc()\n",
    "# Extract using column number\n",
    "companydf.iloc[1:3,0:2]   #row numbers 1, 2 and column numbers 0 and 1 are displayed\n"
   ]
  },
  {
   "cell_type": "code",
   "execution_count": 129,
   "id": "b17a9f4e",
   "metadata": {
    "code_folding": []
   },
   "outputs": [
    {
     "data": {
      "text/html": [
       "<div>\n",
       "<style scoped>\n",
       "    .dataframe tbody tr th:only-of-type {\n",
       "        vertical-align: middle;\n",
       "    }\n",
       "\n",
       "    .dataframe tbody tr th {\n",
       "        vertical-align: top;\n",
       "    }\n",
       "\n",
       "    .dataframe thead th {\n",
       "        text-align: right;\n",
       "    }\n",
       "</style>\n",
       "<table border=\"1\" class=\"dataframe\">\n",
       "  <thead>\n",
       "    <tr style=\"text-align: right;\">\n",
       "      <th></th>\n",
       "      <th>EPS</th>\n",
       "      <th>Market Cap(B)</th>\n",
       "      <th>P/E</th>\n",
       "    </tr>\n",
       "  </thead>\n",
       "  <tbody>\n",
       "    <tr>\n",
       "      <th>Company A</th>\n",
       "      <td>1133.43</td>\n",
       "      <td>1254.05</td>\n",
       "      <td>10</td>\n",
       "    </tr>\n",
       "    <tr>\n",
       "      <th>Company B</th>\n",
       "      <td>36.05</td>\n",
       "      <td>43.20</td>\n",
       "      <td>20</td>\n",
       "    </tr>\n",
       "    <tr>\n",
       "      <th>Company C</th>\n",
       "      <td>145.02</td>\n",
       "      <td>2300.00</td>\n",
       "      <td>30</td>\n",
       "    </tr>\n",
       "    <tr>\n",
       "      <th>Company D</th>\n",
       "      <td>4.50</td>\n",
       "      <td>5.60</td>\n",
       "      <td>40</td>\n",
       "    </tr>\n",
       "    <tr>\n",
       "      <th>Company E</th>\n",
       "      <td>31.44</td>\n",
       "      <td>773.80</td>\n",
       "      <td>60</td>\n",
       "    </tr>\n",
       "    <tr>\n",
       "      <th>Company F</th>\n",
       "      <td>380.64</td>\n",
       "      <td>521.56</td>\n",
       "      <td>50</td>\n",
       "    </tr>\n",
       "  </tbody>\n",
       "</table>\n",
       "</div>"
      ],
      "text/plain": [
       "               EPS  Market Cap(B)  P/E\n",
       "Company A  1133.43        1254.05   10\n",
       "Company B    36.05          43.20   20\n",
       "Company C   145.02        2300.00   30\n",
       "Company D     4.50           5.60   40\n",
       "Company E    31.44         773.80   60\n",
       "Company F   380.64         521.56   50"
      ]
     },
     "execution_count": 129,
     "metadata": {},
     "output_type": "execute_result"
    }
   ],
   "source": [
    "#we can use lists to select any row/column, not necessarily in a sequence\n",
    "companydf.iloc[:,[1,4,3]]  #all rows of columns 1, 3 and 4 are displayed"
   ]
  },
  {
   "cell_type": "code",
   "execution_count": 30,
   "id": "50de5cfb",
   "metadata": {
    "code_folding": []
   },
   "outputs": [
    {
     "data": {
      "text/html": [
       "<div>\n",
       "<style scoped>\n",
       "    .dataframe tbody tr th:only-of-type {\n",
       "        vertical-align: middle;\n",
       "    }\n",
       "\n",
       "    .dataframe tbody tr th {\n",
       "        vertical-align: top;\n",
       "    }\n",
       "\n",
       "    .dataframe thead th {\n",
       "        text-align: right;\n",
       "    }\n",
       "</style>\n",
       "<table border=\"1\" class=\"dataframe\">\n",
       "  <thead>\n",
       "    <tr style=\"text-align: right;\">\n",
       "      <th></th>\n",
       "      <th>EPS</th>\n",
       "      <th>P/E</th>\n",
       "    </tr>\n",
       "  </thead>\n",
       "  <tbody>\n",
       "    <tr>\n",
       "      <th>Company A</th>\n",
       "      <td>1133.43</td>\n",
       "      <td>10</td>\n",
       "    </tr>\n",
       "    <tr>\n",
       "      <th>Company C</th>\n",
       "      <td>145.02</td>\n",
       "      <td>30</td>\n",
       "    </tr>\n",
       "  </tbody>\n",
       "</table>\n",
       "</div>"
      ],
      "text/plain": [
       "               EPS  P/E\n",
       "Company A  1133.43   10\n",
       "Company C   145.02   30"
      ]
     },
     "execution_count": 30,
     "metadata": {},
     "output_type": "execute_result"
    }
   ],
   "source": [
    "#row 0 and 2 of column 1 and 3  are displayed\n",
    "companydf.iloc[[0,2],[1,3]]   "
   ]
  },
  {
   "cell_type": "markdown",
   "id": "ad042e05",
   "metadata": {},
   "source": [
    "### Part 2.2.3  : Changing the indices and saving the new dataframe"
   ]
  },
  {
   "cell_type": "markdown",
   "id": "4a5a553a",
   "metadata": {},
   "source": [
    "- We will look at how to turn an index column into one of the attributes in the dataframe, and vice-versa\n",
    "- Also, we will see how to change the name of a column\n",
    "- For demonstrating these, we will use **companydf** dataframe created earlier."
   ]
  },
  {
   "cell_type": "code",
   "execution_count": 131,
   "id": "571e6880",
   "metadata": {
    "code_folding": []
   },
   "outputs": [
    {
     "data": {
      "text/html": [
       "<div>\n",
       "<style scoped>\n",
       "    .dataframe tbody tr th:only-of-type {\n",
       "        vertical-align: middle;\n",
       "    }\n",
       "\n",
       "    .dataframe tbody tr th {\n",
       "        vertical-align: top;\n",
       "    }\n",
       "\n",
       "    .dataframe thead th {\n",
       "        text-align: right;\n",
       "    }\n",
       "</style>\n",
       "<table border=\"1\" class=\"dataframe\">\n",
       "  <thead>\n",
       "    <tr style=\"text-align: right;\">\n",
       "      <th></th>\n",
       "      <th>Closing price</th>\n",
       "      <th>EPS</th>\n",
       "      <th>Beta</th>\n",
       "      <th>P/E</th>\n",
       "      <th>Market Cap(B)</th>\n",
       "    </tr>\n",
       "  </thead>\n",
       "  <tbody>\n",
       "    <tr>\n",
       "      <th>Company A</th>\n",
       "      <td>346.15</td>\n",
       "      <td>1133.43</td>\n",
       "      <td>1</td>\n",
       "      <td>10</td>\n",
       "      <td>1254.05</td>\n",
       "    </tr>\n",
       "    <tr>\n",
       "      <th>Company B</th>\n",
       "      <td>0.59</td>\n",
       "      <td>36.05</td>\n",
       "      <td>2</td>\n",
       "      <td>20</td>\n",
       "      <td>43.20</td>\n",
       "    </tr>\n",
       "    <tr>\n",
       "      <th>Company C</th>\n",
       "      <td>459.00</td>\n",
       "      <td>145.02</td>\n",
       "      <td>3</td>\n",
       "      <td>30</td>\n",
       "      <td>2300.00</td>\n",
       "    </tr>\n",
       "    <tr>\n",
       "      <th>Company D</th>\n",
       "      <td>0.52</td>\n",
       "      <td>4.50</td>\n",
       "      <td>4</td>\n",
       "      <td>40</td>\n",
       "      <td>5.60</td>\n",
       "    </tr>\n",
       "    <tr>\n",
       "      <th>Company E</th>\n",
       "      <td>589.80</td>\n",
       "      <td>31.44</td>\n",
       "      <td>5</td>\n",
       "      <td>60</td>\n",
       "      <td>773.80</td>\n",
       "    </tr>\n",
       "    <tr>\n",
       "      <th>Company F</th>\n",
       "      <td>158.88</td>\n",
       "      <td>380.64</td>\n",
       "      <td>6</td>\n",
       "      <td>50</td>\n",
       "      <td>521.56</td>\n",
       "    </tr>\n",
       "  </tbody>\n",
       "</table>\n",
       "</div>"
      ],
      "text/plain": [
       "           Closing price      EPS  Beta  P/E  Market Cap(B)\n",
       "Company A         346.15  1133.43     1   10        1254.05\n",
       "Company B           0.59    36.05     2   20          43.20\n",
       "Company C         459.00   145.02     3   30        2300.00\n",
       "Company D           0.52     4.50     4   40           5.60\n",
       "Company E         589.80    31.44     5   60         773.80\n",
       "Company F         158.88   380.64     6   50         521.56"
      ]
     },
     "execution_count": 131,
     "metadata": {},
     "output_type": "execute_result"
    }
   ],
   "source": [
    "# view the dataframe\n",
    "companydf"
   ]
  },
  {
   "cell_type": "code",
   "execution_count": 132,
   "id": "a95de803",
   "metadata": {
    "code_folding": []
   },
   "outputs": [
    {
     "data": {
      "text/html": [
       "<div>\n",
       "<style scoped>\n",
       "    .dataframe tbody tr th:only-of-type {\n",
       "        vertical-align: middle;\n",
       "    }\n",
       "\n",
       "    .dataframe tbody tr th {\n",
       "        vertical-align: top;\n",
       "    }\n",
       "\n",
       "    .dataframe thead th {\n",
       "        text-align: right;\n",
       "    }\n",
       "</style>\n",
       "<table border=\"1\" class=\"dataframe\">\n",
       "  <thead>\n",
       "    <tr style=\"text-align: right;\">\n",
       "      <th></th>\n",
       "      <th>index</th>\n",
       "      <th>Closing price</th>\n",
       "      <th>EPS</th>\n",
       "      <th>Beta</th>\n",
       "      <th>P/E</th>\n",
       "      <th>Market Cap(B)</th>\n",
       "    </tr>\n",
       "  </thead>\n",
       "  <tbody>\n",
       "    <tr>\n",
       "      <th>0</th>\n",
       "      <td>Company A</td>\n",
       "      <td>346.15</td>\n",
       "      <td>1133.43</td>\n",
       "      <td>1</td>\n",
       "      <td>10</td>\n",
       "      <td>1254.05</td>\n",
       "    </tr>\n",
       "    <tr>\n",
       "      <th>1</th>\n",
       "      <td>Company B</td>\n",
       "      <td>0.59</td>\n",
       "      <td>36.05</td>\n",
       "      <td>2</td>\n",
       "      <td>20</td>\n",
       "      <td>43.20</td>\n",
       "    </tr>\n",
       "    <tr>\n",
       "      <th>2</th>\n",
       "      <td>Company C</td>\n",
       "      <td>459.00</td>\n",
       "      <td>145.02</td>\n",
       "      <td>3</td>\n",
       "      <td>30</td>\n",
       "      <td>2300.00</td>\n",
       "    </tr>\n",
       "    <tr>\n",
       "      <th>3</th>\n",
       "      <td>Company D</td>\n",
       "      <td>0.52</td>\n",
       "      <td>4.50</td>\n",
       "      <td>4</td>\n",
       "      <td>40</td>\n",
       "      <td>5.60</td>\n",
       "    </tr>\n",
       "    <tr>\n",
       "      <th>4</th>\n",
       "      <td>Company E</td>\n",
       "      <td>589.80</td>\n",
       "      <td>31.44</td>\n",
       "      <td>5</td>\n",
       "      <td>60</td>\n",
       "      <td>773.80</td>\n",
       "    </tr>\n",
       "    <tr>\n",
       "      <th>5</th>\n",
       "      <td>Company F</td>\n",
       "      <td>158.88</td>\n",
       "      <td>380.64</td>\n",
       "      <td>6</td>\n",
       "      <td>50</td>\n",
       "      <td>521.56</td>\n",
       "    </tr>\n",
       "  </tbody>\n",
       "</table>\n",
       "</div>"
      ],
      "text/plain": [
       "       index  Closing price      EPS  Beta  P/E  Market Cap(B)\n",
       "0  Company A         346.15  1133.43     1   10        1254.05\n",
       "1  Company B           0.59    36.05     2   20          43.20\n",
       "2  Company C         459.00   145.02     3   30        2300.00\n",
       "3  Company D           0.52     4.50     4   40           5.60\n",
       "4  Company E         589.80    31.44     5   60         773.80\n",
       "5  Company F         158.88   380.64     6   50         521.56"
      ]
     },
     "execution_count": 132,
     "metadata": {},
     "output_type": "execute_result"
    }
   ],
   "source": [
    "# use the reset_index() method to make the existing indices a column of the data frame\n",
    "companydf.reset_index(inplace = True)\n",
    "companydf"
   ]
  },
  {
   "cell_type": "code",
   "execution_count": 133,
   "id": "b6b4d66c",
   "metadata": {
    "code_folding": []
   },
   "outputs": [
    {
     "data": {
      "text/html": [
       "<div>\n",
       "<style scoped>\n",
       "    .dataframe tbody tr th:only-of-type {\n",
       "        vertical-align: middle;\n",
       "    }\n",
       "\n",
       "    .dataframe tbody tr th {\n",
       "        vertical-align: top;\n",
       "    }\n",
       "\n",
       "    .dataframe thead th {\n",
       "        text-align: right;\n",
       "    }\n",
       "</style>\n",
       "<table border=\"1\" class=\"dataframe\">\n",
       "  <thead>\n",
       "    <tr style=\"text-align: right;\">\n",
       "      <th></th>\n",
       "      <th>Company names</th>\n",
       "      <th>Closing price</th>\n",
       "      <th>EPS</th>\n",
       "      <th>Beta</th>\n",
       "      <th>P/E</th>\n",
       "      <th>Market Cap(B)</th>\n",
       "    </tr>\n",
       "  </thead>\n",
       "  <tbody>\n",
       "    <tr>\n",
       "      <th>0</th>\n",
       "      <td>Company A</td>\n",
       "      <td>346.15</td>\n",
       "      <td>1133.43</td>\n",
       "      <td>1</td>\n",
       "      <td>10</td>\n",
       "      <td>1254.05</td>\n",
       "    </tr>\n",
       "    <tr>\n",
       "      <th>1</th>\n",
       "      <td>Company B</td>\n",
       "      <td>0.59</td>\n",
       "      <td>36.05</td>\n",
       "      <td>2</td>\n",
       "      <td>20</td>\n",
       "      <td>43.20</td>\n",
       "    </tr>\n",
       "    <tr>\n",
       "      <th>2</th>\n",
       "      <td>Company C</td>\n",
       "      <td>459.00</td>\n",
       "      <td>145.02</td>\n",
       "      <td>3</td>\n",
       "      <td>30</td>\n",
       "      <td>2300.00</td>\n",
       "    </tr>\n",
       "    <tr>\n",
       "      <th>3</th>\n",
       "      <td>Company D</td>\n",
       "      <td>0.52</td>\n",
       "      <td>4.50</td>\n",
       "      <td>4</td>\n",
       "      <td>40</td>\n",
       "      <td>5.60</td>\n",
       "    </tr>\n",
       "    <tr>\n",
       "      <th>4</th>\n",
       "      <td>Company E</td>\n",
       "      <td>589.80</td>\n",
       "      <td>31.44</td>\n",
       "      <td>5</td>\n",
       "      <td>60</td>\n",
       "      <td>773.80</td>\n",
       "    </tr>\n",
       "    <tr>\n",
       "      <th>5</th>\n",
       "      <td>Company F</td>\n",
       "      <td>158.88</td>\n",
       "      <td>380.64</td>\n",
       "      <td>6</td>\n",
       "      <td>50</td>\n",
       "      <td>521.56</td>\n",
       "    </tr>\n",
       "  </tbody>\n",
       "</table>\n",
       "</div>"
      ],
      "text/plain": [
       "  Company names  Closing price      EPS  Beta  P/E  Market Cap(B)\n",
       "0     Company A         346.15  1133.43     1   10        1254.05\n",
       "1     Company B           0.59    36.05     2   20          43.20\n",
       "2     Company C         459.00   145.02     3   30        2300.00\n",
       "3     Company D           0.52     4.50     4   40           5.60\n",
       "4     Company E         589.80    31.44     5   60         773.80\n",
       "5     Company F         158.88   380.64     6   50         521.56"
      ]
     },
     "execution_count": 133,
     "metadata": {},
     "output_type": "execute_result"
    }
   ],
   "source": [
    "# give a new name to this column\n",
    "companydf.rename(columns={'index':'Company names'},inplace=True)\n",
    "companydf"
   ]
  },
  {
   "cell_type": "code",
   "execution_count": 34,
   "id": "18a6dfcc",
   "metadata": {
    "code_folding": []
   },
   "outputs": [
    {
     "data": {
      "text/html": [
       "<div>\n",
       "<style scoped>\n",
       "    .dataframe tbody tr th:only-of-type {\n",
       "        vertical-align: middle;\n",
       "    }\n",
       "\n",
       "    .dataframe tbody tr th {\n",
       "        vertical-align: top;\n",
       "    }\n",
       "\n",
       "    .dataframe thead th {\n",
       "        text-align: right;\n",
       "    }\n",
       "</style>\n",
       "<table border=\"1\" class=\"dataframe\">\n",
       "  <thead>\n",
       "    <tr style=\"text-align: right;\">\n",
       "      <th></th>\n",
       "      <th>Closing price</th>\n",
       "      <th>EPS</th>\n",
       "      <th>Beta</th>\n",
       "      <th>P/E</th>\n",
       "      <th>Market Cap(B)</th>\n",
       "    </tr>\n",
       "    <tr>\n",
       "      <th>Company names</th>\n",
       "      <th></th>\n",
       "      <th></th>\n",
       "      <th></th>\n",
       "      <th></th>\n",
       "      <th></th>\n",
       "    </tr>\n",
       "  </thead>\n",
       "  <tbody>\n",
       "    <tr>\n",
       "      <th>Company A</th>\n",
       "      <td>346.15</td>\n",
       "      <td>1133.43</td>\n",
       "      <td>1</td>\n",
       "      <td>10</td>\n",
       "      <td>1254.05</td>\n",
       "    </tr>\n",
       "    <tr>\n",
       "      <th>Company B</th>\n",
       "      <td>0.59</td>\n",
       "      <td>36.05</td>\n",
       "      <td>2</td>\n",
       "      <td>20</td>\n",
       "      <td>43.20</td>\n",
       "    </tr>\n",
       "    <tr>\n",
       "      <th>Company C</th>\n",
       "      <td>459.00</td>\n",
       "      <td>145.02</td>\n",
       "      <td>3</td>\n",
       "      <td>30</td>\n",
       "      <td>2300.00</td>\n",
       "    </tr>\n",
       "    <tr>\n",
       "      <th>Company D</th>\n",
       "      <td>0.52</td>\n",
       "      <td>4.50</td>\n",
       "      <td>4</td>\n",
       "      <td>40</td>\n",
       "      <td>5.60</td>\n",
       "    </tr>\n",
       "    <tr>\n",
       "      <th>Company E</th>\n",
       "      <td>589.80</td>\n",
       "      <td>31.44</td>\n",
       "      <td>5</td>\n",
       "      <td>60</td>\n",
       "      <td>773.80</td>\n",
       "    </tr>\n",
       "    <tr>\n",
       "      <th>Company F</th>\n",
       "      <td>158.88</td>\n",
       "      <td>380.64</td>\n",
       "      <td>6</td>\n",
       "      <td>50</td>\n",
       "      <td>521.56</td>\n",
       "    </tr>\n",
       "  </tbody>\n",
       "</table>\n",
       "</div>"
      ],
      "text/plain": [
       "               Closing price      EPS  Beta  P/E  Market Cap(B)\n",
       "Company names                                                  \n",
       "Company A             346.15  1133.43     1   10        1254.05\n",
       "Company B               0.59    36.05     2   20          43.20\n",
       "Company C             459.00   145.02     3   30        2300.00\n",
       "Company D               0.52     4.50     4   40           5.60\n",
       "Company E             589.80    31.44     5   60         773.80\n",
       "Company F             158.88   380.64     6   50         521.56"
      ]
     },
     "execution_count": 34,
     "metadata": {},
     "output_type": "execute_result"
    }
   ],
   "source": [
    "# choose a column and make it the index of the dataframe\n",
    "companydf=companydf.set_index('Company names')\n",
    "companydf"
   ]
  },
  {
   "cell_type": "markdown",
   "id": "5c718d29",
   "metadata": {},
   "source": [
    "##### Save the dataframe into a file"
   ]
  },
  {
   "cell_type": "code",
   "execution_count": 138,
   "id": "f48c8da7",
   "metadata": {
    "code_folding": []
   },
   "outputs": [],
   "source": [
    "# save the data to a CSV\n",
    "companydf.to_csv('./outputs/CompanyData.csv')"
   ]
  },
  {
   "cell_type": "code",
   "execution_count": null,
   "id": "b0f2c38b",
   "metadata": {},
   "outputs": [],
   "source": []
  },
  {
   "cell_type": "code",
   "execution_count": null,
   "id": "24b67529",
   "metadata": {},
   "outputs": [],
   "source": []
  }
 ],
 "metadata": {
  "kernelspec": {
   "display_name": "Python 3 (ipykernel)",
   "language": "python",
   "name": "python3"
  },
  "language_info": {
   "codemirror_mode": {
    "name": "ipython",
    "version": 3
   },
   "file_extension": ".py",
   "mimetype": "text/x-python",
   "name": "python",
   "nbconvert_exporter": "python",
   "pygments_lexer": "ipython3",
   "version": "3.10.13"
  }
 },
 "nbformat": 4,
 "nbformat_minor": 5
}
