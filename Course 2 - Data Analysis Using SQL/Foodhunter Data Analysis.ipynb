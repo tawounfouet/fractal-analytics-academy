{
 "cells": [
  {
   "cell_type": "code",
   "execution_count": null,
   "id": "c33aa5ad-a259-4072-a24a-f5bb3de338a4",
   "metadata": {},
   "outputs": [],
   "source": []
  },
  {
   "cell_type": "code",
   "execution_count": 1,
   "id": "845d8c6a-546a-424a-80af-68cbb21b32fb",
   "metadata": {},
   "outputs": [],
   "source": [
    "import pandas as pd\n",
    "\n",
    "#import sqlite3\n",
    "import sqlite3 as sq3\n",
    "from sqlite3 import Connection\n",
    "\n",
    "import sqlalchemy.pool as pool"
   ]
  },
  {
   "cell_type": "code",
   "execution_count": null,
   "id": "1037337b-de5d-426f-bfa4-b2098ec156a2",
   "metadata": {},
   "outputs": [],
   "source": []
  },
  {
   "cell_type": "code",
   "execution_count": 5,
   "id": "420c6a35-6db2-4232-aa9b-c5fa2c97180c",
   "metadata": {},
   "outputs": [],
   "source": [
    "#!sqlite3 mydatabase.db < synergix_dataset.sql"
   ]
  },
  {
   "cell_type": "code",
   "execution_count": 29,
   "id": "e6506455-6967-48f4-b04b-59c4083374f1",
   "metadata": {},
   "outputs": [
    {
     "name": "stdout",
     "output_type": "stream",
     "text": [
      "('customers',)\n",
      "('drivers',)\n",
      "('food_items',)\n",
      "('orders',)\n",
      "('orders_items',)\n",
      "('restaurants',)\n"
     ]
    }
   ],
   "source": [
    "import pandas as pd\n",
    "import mysql.connector\n",
    "import warnings\n",
    "\n",
    "# Filter out pandas UserWarning\n",
    "warnings.filterwarnings(\"ignore\", category=UserWarning)\n",
    "\n",
    "\n",
    "# Modify these parameters according to your MySQL configuration\n",
    "mysql_config = {\n",
    "    'host': 'localhost',\n",
    "    'database': 'food_delivery',\n",
    "    'user': 'awf',\n",
    "    'password': 'awf'\n",
    "}\n",
    "\n",
    "# Establish connection\n",
    "connection = mysql.connector.connect(**mysql_config)\n",
    "\n",
    "\n",
    "# Query to fetch table names\n",
    "query = \"SELECT table_name FROM information_schema.tables WHERE table_schema = %s\"\n",
    "table_schema = (mysql_config['database'],)  # Using the configured database name\n",
    "cursor = connection.cursor()\n",
    "cursor.execute(query, table_schema)\n",
    "\n",
    "# Fetch all table names\n",
    "table_names = cursor.fetchall()\n",
    "\n",
    "# Convert the result to a pandas DataFrame for easier viewing\n",
    "#df = pd.DataFrame(table_names, columns=['Table Name'])\n",
    "for tb in table_names:\n",
    "    print(tb)"
   ]
  },
  {
   "cell_type": "code",
   "execution_count": 28,
   "id": "5e1a51ec-c69e-44d5-8ac3-fac0f23cbe2f",
   "metadata": {},
   "outputs": [],
   "source": [
    "#connection"
   ]
  },
  {
   "cell_type": "code",
   "execution_count": 38,
   "id": "4640890d-5aae-422a-8d70-944f8c6887ad",
   "metadata": {},
   "outputs": [
    {
     "data": {
      "text/html": [
       "<div>\n",
       "<style scoped>\n",
       "    .dataframe tbody tr th:only-of-type {\n",
       "        vertical-align: middle;\n",
       "    }\n",
       "\n",
       "    .dataframe tbody tr th {\n",
       "        vertical-align: top;\n",
       "    }\n",
       "\n",
       "    .dataframe thead th {\n",
       "        text-align: right;\n",
       "    }\n",
       "</style>\n",
       "<table border=\"1\" class=\"dataframe\">\n",
       "  <thead>\n",
       "    <tr style=\"text-align: right;\">\n",
       "      <th></th>\n",
       "      <th>customer_id</th>\n",
       "      <th>first_name</th>\n",
       "      <th>last_name</th>\n",
       "      <th>phone_number</th>\n",
       "      <th>address</th>\n",
       "    </tr>\n",
       "  </thead>\n",
       "  <tbody>\n",
       "    <tr>\n",
       "      <th>0</th>\n",
       "      <td>1</td>\n",
       "      <td>Donald</td>\n",
       "      <td>Arend</td>\n",
       "      <td>9020474801</td>\n",
       "      <td>49 Madison Avenue</td>\n",
       "    </tr>\n",
       "    <tr>\n",
       "      <th>1</th>\n",
       "      <td>2</td>\n",
       "      <td>Richard</td>\n",
       "      <td>Krick</td>\n",
       "      <td>7040231632</td>\n",
       "      <td>32 Vineyard Drive</td>\n",
       "    </tr>\n",
       "    <tr>\n",
       "      <th>2</th>\n",
       "      <td>3</td>\n",
       "      <td>Pauline</td>\n",
       "      <td>Hardman</td>\n",
       "      <td>9180289990</td>\n",
       "      <td>18 Elmwood Place</td>\n",
       "    </tr>\n",
       "  </tbody>\n",
       "</table>\n",
       "</div>"
      ],
      "text/plain": [
       "   customer_id first_name last_name phone_number            address\n",
       "0            1     Donald     Arend   9020474801  49 Madison Avenue\n",
       "1            2    Richard     Krick   7040231632  32 Vineyard Drive\n",
       "2            3    Pauline   Hardman   9180289990   18 Elmwood Place"
      ]
     },
     "execution_count": 38,
     "metadata": {},
     "output_type": "execute_result"
    }
   ],
   "source": [
    "query = \"SELECT * FROM customers\"\n",
    "df = pd.read_sql(query, connection)\n",
    "df.head(3)"
   ]
  },
  {
   "cell_type": "code",
   "execution_count": 39,
   "id": "1a7a182a-6ffd-4cb2-b332-4989db86de96",
   "metadata": {},
   "outputs": [
    {
     "data": {
      "text/html": [
       "<div>\n",
       "<style scoped>\n",
       "    .dataframe tbody tr th:only-of-type {\n",
       "        vertical-align: middle;\n",
       "    }\n",
       "\n",
       "    .dataframe tbody tr th {\n",
       "        vertical-align: top;\n",
       "    }\n",
       "\n",
       "    .dataframe thead th {\n",
       "        text-align: right;\n",
       "    }\n",
       "</style>\n",
       "<table border=\"1\" class=\"dataframe\">\n",
       "  <thead>\n",
       "    <tr style=\"text-align: right;\">\n",
       "      <th></th>\n",
       "      <th>item_id</th>\n",
       "      <th>restaurant_id</th>\n",
       "      <th>item_name</th>\n",
       "      <th>food_type</th>\n",
       "      <th>price</th>\n",
       "      <th>calories</th>\n",
       "    </tr>\n",
       "  </thead>\n",
       "  <tbody>\n",
       "    <tr>\n",
       "      <th>0</th>\n",
       "      <td>101</td>\n",
       "      <td>47</td>\n",
       "      <td>Coconut Ice Cream</td>\n",
       "      <td>vegetarian</td>\n",
       "      <td>NaN</td>\n",
       "      <td>500.0</td>\n",
       "    </tr>\n",
       "    <tr>\n",
       "      <th>1</th>\n",
       "      <td>102</td>\n",
       "      <td>93</td>\n",
       "      <td>Vegetable Pakoras</td>\n",
       "      <td>Veg</td>\n",
       "      <td>NaN</td>\n",
       "      <td>1000.0</td>\n",
       "    </tr>\n",
       "    <tr>\n",
       "      <th>2</th>\n",
       "      <td>103</td>\n",
       "      <td>24</td>\n",
       "      <td>Wonton soup</td>\n",
       "      <td>non-vegetarian</td>\n",
       "      <td>NaN</td>\n",
       "      <td>400.0</td>\n",
       "    </tr>\n",
       "  </tbody>\n",
       "</table>\n",
       "</div>"
      ],
      "text/plain": [
       "   item_id  restaurant_id          item_name       food_type price  calories\n",
       "0      101             47  Coconut Ice Cream      vegetarian   NaN     500.0\n",
       "1      102             93  Vegetable Pakoras             Veg   NaN    1000.0\n",
       "2      103             24        Wonton soup  non-vegetarian   NaN     400.0"
      ]
     },
     "execution_count": 39,
     "metadata": {},
     "output_type": "execute_result"
    }
   ],
   "source": [
    "query = \"SELECT * FROM food_items\"\n",
    "df = pd.read_sql(query, connection)\n",
    "df.head(3)"
   ]
  },
  {
   "cell_type": "code",
   "execution_count": 40,
   "id": "2b39c113-aeab-40d8-b12e-331d3dd728b8",
   "metadata": {},
   "outputs": [
    {
     "data": {
      "text/html": [
       "<div>\n",
       "<style scoped>\n",
       "    .dataframe tbody tr th:only-of-type {\n",
       "        vertical-align: middle;\n",
       "    }\n",
       "\n",
       "    .dataframe tbody tr th {\n",
       "        vertical-align: top;\n",
       "    }\n",
       "\n",
       "    .dataframe thead th {\n",
       "        text-align: right;\n",
       "    }\n",
       "</style>\n",
       "<table border=\"1\" class=\"dataframe\">\n",
       "  <thead>\n",
       "    <tr style=\"text-align: right;\">\n",
       "      <th></th>\n",
       "      <th>restaurant_id</th>\n",
       "      <th>restaurant_name</th>\n",
       "      <th>cuisine</th>\n",
       "      <th>address</th>\n",
       "    </tr>\n",
       "  </thead>\n",
       "  <tbody>\n",
       "    <tr>\n",
       "      <th>0</th>\n",
       "      <td>1</td>\n",
       "      <td>L'Artusi</td>\n",
       "      <td>Italian</td>\n",
       "      <td>\"3540 7th Ave</td>\n",
       "    </tr>\n",
       "    <tr>\n",
       "      <th>1</th>\n",
       "      <td>2</td>\n",
       "      <td>Loring Place</td>\n",
       "      <td>Chinese</td>\n",
       "      <td>\"6947 4th Ave</td>\n",
       "    </tr>\n",
       "    <tr>\n",
       "      <th>2</th>\n",
       "      <td>3</td>\n",
       "      <td>Café China</td>\n",
       "      <td>Chinese</td>\n",
       "      <td>\"9675 7th Ave</td>\n",
       "    </tr>\n",
       "  </tbody>\n",
       "</table>\n",
       "</div>"
      ],
      "text/plain": [
       "   restaurant_id restaurant_name  cuisine        address\n",
       "0              1        L'Artusi  Italian  \"3540 7th Ave\n",
       "1              2    Loring Place  Chinese  \"6947 4th Ave\n",
       "2              3      Café China  Chinese  \"9675 7th Ave"
      ]
     },
     "execution_count": 40,
     "metadata": {},
     "output_type": "execute_result"
    }
   ],
   "source": [
    "query = \"SELECT * FROM restaurants\"\n",
    "df = pd.read_sql(query, connection)\n",
    "df.head(3)"
   ]
  },
  {
   "cell_type": "code",
   "execution_count": 41,
   "id": "2b3f0be1-c964-4958-9430-34a0d0ac9684",
   "metadata": {},
   "outputs": [
    {
     "data": {
      "text/html": [
       "<div>\n",
       "<style scoped>\n",
       "    .dataframe tbody tr th:only-of-type {\n",
       "        vertical-align: middle;\n",
       "    }\n",
       "\n",
       "    .dataframe tbody tr th {\n",
       "        vertical-align: top;\n",
       "    }\n",
       "\n",
       "    .dataframe thead th {\n",
       "        text-align: right;\n",
       "    }\n",
       "</style>\n",
       "<table border=\"1\" class=\"dataframe\">\n",
       "  <thead>\n",
       "    <tr style=\"text-align: right;\">\n",
       "      <th></th>\n",
       "      <th>driver_id</th>\n",
       "      <th>name</th>\n",
       "      <th>rating</th>\n",
       "    </tr>\n",
       "  </thead>\n",
       "  <tbody>\n",
       "    <tr>\n",
       "      <th>0</th>\n",
       "      <td>1</td>\n",
       "      <td>Avery Yost</td>\n",
       "      <td>3.1</td>\n",
       "    </tr>\n",
       "    <tr>\n",
       "      <th>1</th>\n",
       "      <td>2</td>\n",
       "      <td>Anthony Pegram</td>\n",
       "      <td>4.3</td>\n",
       "    </tr>\n",
       "    <tr>\n",
       "      <th>2</th>\n",
       "      <td>3</td>\n",
       "      <td>Elaine Kimes</td>\n",
       "      <td>4.2</td>\n",
       "    </tr>\n",
       "  </tbody>\n",
       "</table>\n",
       "</div>"
      ],
      "text/plain": [
       "   driver_id            name  rating\n",
       "0          1      Avery Yost     3.1\n",
       "1          2  Anthony Pegram     4.3\n",
       "2          3    Elaine Kimes     4.2"
      ]
     },
     "execution_count": 41,
     "metadata": {},
     "output_type": "execute_result"
    }
   ],
   "source": [
    "query = \"SELECT * FROM drivers\"\n",
    "df = pd.read_sql(query, connection)\n",
    "df.head(3)"
   ]
  },
  {
   "cell_type": "code",
   "execution_count": 42,
   "id": "a73e5ac3-985e-4568-b96d-ba74f0ea97e5",
   "metadata": {},
   "outputs": [
    {
     "data": {
      "text/html": [
       "<div>\n",
       "<style scoped>\n",
       "    .dataframe tbody tr th:only-of-type {\n",
       "        vertical-align: middle;\n",
       "    }\n",
       "\n",
       "    .dataframe tbody tr th {\n",
       "        vertical-align: top;\n",
       "    }\n",
       "\n",
       "    .dataframe thead th {\n",
       "        text-align: right;\n",
       "    }\n",
       "</style>\n",
       "<table border=\"1\" class=\"dataframe\">\n",
       "  <thead>\n",
       "    <tr style=\"text-align: right;\">\n",
       "      <th></th>\n",
       "      <th>order_id</th>\n",
       "      <th>customer_id</th>\n",
       "      <th>order_date</th>\n",
       "      <th>order_time</th>\n",
       "      <th>delivered_date</th>\n",
       "      <th>delivered_time</th>\n",
       "      <th>delivery_address</th>\n",
       "      <th>driver_id</th>\n",
       "      <th>total_price</th>\n",
       "      <th>delivery_fee</th>\n",
       "      <th>discount</th>\n",
       "      <th>final_price</th>\n",
       "      <th>order_rating</th>\n",
       "    </tr>\n",
       "  </thead>\n",
       "  <tbody>\n",
       "    <tr>\n",
       "      <th>0</th>\n",
       "      <td>1</td>\n",
       "      <td>7420</td>\n",
       "      <td>2022-06-01</td>\n",
       "      <td>0 days 00:03:00</td>\n",
       "      <td>2022-06-01</td>\n",
       "      <td>0 days 00:16:00</td>\n",
       "      <td>7 Cedar Lane</td>\n",
       "      <td>93</td>\n",
       "      <td>150</td>\n",
       "      <td>0.0</td>\n",
       "      <td>30.0</td>\n",
       "      <td>120.0</td>\n",
       "      <td>3.555464</td>\n",
       "    </tr>\n",
       "    <tr>\n",
       "      <th>1</th>\n",
       "      <td>2</td>\n",
       "      <td>1895</td>\n",
       "      <td>2022-06-01</td>\n",
       "      <td>0 days 00:04:00</td>\n",
       "      <td>2022-06-01</td>\n",
       "      <td>0 days 00:18:00</td>\n",
       "      <td>7 Lexington Place</td>\n",
       "      <td>138</td>\n",
       "      <td>9</td>\n",
       "      <td>5.0</td>\n",
       "      <td>0.0</td>\n",
       "      <td>14.0</td>\n",
       "      <td>5.000000</td>\n",
       "    </tr>\n",
       "    <tr>\n",
       "      <th>2</th>\n",
       "      <td>3</td>\n",
       "      <td>6651</td>\n",
       "      <td>2022-06-01</td>\n",
       "      <td>0 days 00:05:00</td>\n",
       "      <td>2022-06-01</td>\n",
       "      <td>0 days 00:20:00</td>\n",
       "      <td>20 Linden Lane</td>\n",
       "      <td>187</td>\n",
       "      <td>117</td>\n",
       "      <td>0.0</td>\n",
       "      <td>23.4</td>\n",
       "      <td>93.6</td>\n",
       "      <td>3.393489</td>\n",
       "    </tr>\n",
       "  </tbody>\n",
       "</table>\n",
       "</div>"
      ],
      "text/plain": [
       "   order_id  customer_id order_date      order_time delivered_date  \\\n",
       "0         1         7420 2022-06-01 0 days 00:03:00     2022-06-01   \n",
       "1         2         1895 2022-06-01 0 days 00:04:00     2022-06-01   \n",
       "2         3         6651 2022-06-01 0 days 00:05:00     2022-06-01   \n",
       "\n",
       "   delivered_time   delivery_address  driver_id  total_price  delivery_fee  \\\n",
       "0 0 days 00:16:00       7 Cedar Lane         93          150           0.0   \n",
       "1 0 days 00:18:00  7 Lexington Place        138            9           5.0   \n",
       "2 0 days 00:20:00     20 Linden Lane        187          117           0.0   \n",
       "\n",
       "   discount  final_price  order_rating  \n",
       "0      30.0        120.0      3.555464  \n",
       "1       0.0         14.0      5.000000  \n",
       "2      23.4         93.6      3.393489  "
      ]
     },
     "execution_count": 42,
     "metadata": {},
     "output_type": "execute_result"
    }
   ],
   "source": [
    "query = \"SELECT * FROM orders\"\n",
    "df = pd.read_sql(query, connection)\n",
    "df.head(3)"
   ]
  },
  {
   "cell_type": "code",
   "execution_count": 43,
   "id": "12bc6e82-9e74-4da3-bf2c-201432f19a6a",
   "metadata": {},
   "outputs": [
    {
     "data": {
      "text/plain": [
       "(43118, 13)"
      ]
     },
     "execution_count": 43,
     "metadata": {},
     "output_type": "execute_result"
    }
   ],
   "source": [
    "df.shape"
   ]
  },
  {
   "cell_type": "code",
   "execution_count": null,
   "id": "c418ce12-cf75-4b08-97d9-3df211d59e73",
   "metadata": {},
   "outputs": [],
   "source": []
  },
  {
   "cell_type": "code",
   "execution_count": null,
   "id": "0b4c7c26-9edc-45f5-9a99-0f043053e0a1",
   "metadata": {},
   "outputs": [],
   "source": []
  },
  {
   "cell_type": "code",
   "execution_count": null,
   "id": "f410e236-7038-4391-8628-01122147acba",
   "metadata": {},
   "outputs": [],
   "source": []
  },
  {
   "cell_type": "code",
   "execution_count": null,
   "id": "cec54655-e9a4-47fd-becf-8e3fcc43e4ae",
   "metadata": {},
   "outputs": [],
   "source": []
  },
  {
   "cell_type": "code",
   "execution_count": null,
   "id": "8ab62226-99df-4ba3-8758-6fabcb04c5a4",
   "metadata": {},
   "outputs": [],
   "source": []
  },
  {
   "cell_type": "code",
   "execution_count": null,
   "id": "c999be77-3c76-495a-9206-04530511ba70",
   "metadata": {},
   "outputs": [],
   "source": []
  },
  {
   "cell_type": "code",
   "execution_count": null,
   "id": "7b0e37e5-bf7b-4192-812d-b16c9c03464b",
   "metadata": {},
   "outputs": [],
   "source": [
    "# Close cursor and connection\n",
    "cursor.close()\n",
    "connection.close()"
   ]
  },
  {
   "cell_type": "code",
   "execution_count": null,
   "id": "0a891ddb-3c8c-4023-bdcc-4459f13669c4",
   "metadata": {},
   "outputs": [],
   "source": []
  },
  {
   "cell_type": "code",
   "execution_count": null,
   "id": "b6b94ab7-bc22-4de3-985c-553b5470528d",
   "metadata": {},
   "outputs": [],
   "source": [
    "query = \"SELECT * FROM your_table\"\n",
    "df = pd.read_sql(query, connection)"
   ]
  },
  {
   "cell_type": "code",
   "execution_count": null,
   "id": "7cb5c5c1-b1cd-4fe4-800f-ddd9037226e7",
   "metadata": {},
   "outputs": [],
   "source": []
  },
  {
   "cell_type": "code",
   "execution_count": null,
   "id": "33dcfbfc-7053-4dbb-98fc-3db8dac0c2a6",
   "metadata": {},
   "outputs": [],
   "source": []
  },
  {
   "cell_type": "code",
   "execution_count": null,
   "id": "2f80b056-32b6-40a5-bb14-3b5d1bfe7c77",
   "metadata": {},
   "outputs": [],
   "source": []
  },
  {
   "cell_type": "code",
   "execution_count": null,
   "id": "3e7703da-39e3-41b9-bf4d-84c5150d9fbc",
   "metadata": {},
   "outputs": [],
   "source": []
  },
  {
   "cell_type": "code",
   "execution_count": 2,
   "id": "c477a361-1f5c-45a4-8cbb-5fe7686611d1",
   "metadata": {},
   "outputs": [
    {
     "data": {
      "text/plain": [
       "[]"
      ]
     },
     "execution_count": 2,
     "metadata": {},
     "output_type": "execute_result"
    }
   ],
   "source": [
    "db = sq3.connect(\"synergix_dataset.sql\")\n",
    "\n",
    "cursor = db.cursor()\n",
    "\n",
    "cursor.execute(\"SELECT * FROM sqlite_master;\")\n",
    "\n",
    "available_table=(cursor.fetchall())\n",
    "available_table"
   ]
  },
  {
   "cell_type": "code",
   "execution_count": null,
   "id": "82685307-0942-4312-aff9-2e867f5877a5",
   "metadata": {},
   "outputs": [],
   "source": []
  }
 ],
 "metadata": {
  "kernelspec": {
   "display_name": "Python 3 (ipykernel)",
   "language": "python",
   "name": "python3"
  },
  "language_info": {
   "codemirror_mode": {
    "name": "ipython",
    "version": 3
   },
   "file_extension": ".py",
   "mimetype": "text/x-python",
   "name": "python",
   "nbconvert_exporter": "python",
   "pygments_lexer": "ipython3",
   "version": "3.8.0"
  }
 },
 "nbformat": 4,
 "nbformat_minor": 5
}
